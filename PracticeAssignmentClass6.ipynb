{
 "cells": [
  {
   "cell_type": "markdown",
   "id": "b5ec9d3e",
   "metadata": {},
   "source": [
    "### Task1:\n",
    "You need to code a program that prints numbers from 1 to 20 except multiple of 2 & 3.\n",
    "\n",
    "Hint: use \"modulo\" operator and \"and/or\" operators"
   ]
  },
  {
   "cell_type": "code",
   "execution_count": 3,
   "id": "a94f69b5",
   "metadata": {},
   "outputs": [
    {
     "name": "stdout",
     "output_type": "stream",
     "text": [
      "1\n",
      "5\n",
      "7\n",
      "11\n",
      "13\n",
      "17\n",
      "19\n"
     ]
    }
   ],
   "source": [
    "# Your code goes here\n",
    "for i in range(1,20):\n",
    "    if i%2!= 0 and i%3!= 0:\n",
    "        print(i)\n",
    "        "
   ]
  },
  {
   "cell_type": "markdown",
   "id": "b123a205",
   "metadata": {},
   "source": [
    "### Task2:\n",
    "Write a program that keep on accepting number from the user until user enters Zero. Display the sum and average of all the numbers.\n",
    "\n",
    "Hint: Use while loop with flag. "
   ]
  },
  {
   "cell_type": "code",
   "execution_count": 13,
   "id": "29296c1c",
   "metadata": {},
   "outputs": [
    {
     "name": "stdout",
     "output_type": "stream",
     "text": [
      "enter numbers or press '0' to end 1\n",
      "enter numbers or press '0' to end 2\n",
      "enter numbers or press '0' to end 3\n",
      "enter numbers or press '0' to end 0\n",
      "given numbers are 3\n",
      "sum of numbers is 6\n",
      "average is 2\n"
     ]
    }
   ],
   "source": [
    "# Your code goes here\n",
    "flag = True \n",
    "total = 0\n",
    "count = 0\n",
    "while flag:\n",
    "    num = int(input(\"enter numbers or press '0' to end \"))\n",
    "    if num==0:\n",
    "        flag = False\n",
    "    total = total + num\n",
    "    count = count + 1\n",
    "aveg = int(total/(count-1))\n",
    "print(f\"given numbers are {count-1}\\nsum of numbers is {total}\\naverage is {aveg}\")"
   ]
  },
  {
   "cell_type": "code",
   "execution_count": 15,
   "id": "5d981a6a",
   "metadata": {},
   "outputs": [
    {
     "name": "stdout",
     "output_type": "stream",
     "text": [
      "Enter a number or press '0' to exit 1\n",
      "Enter a number or press '0' to exit 2\n",
      "Enter a number or press '0' to exit 3\n",
      "Enter a number or press '0' to exit 0\n",
      "Sum of all the numbers supplied is 6\n",
      "Avg of all the numbers supplied is 2\n"
     ]
    }
   ],
   "source": [
    "#by sir nasir method\n",
    "flag = True\n",
    "tot = 0 \n",
    "count = 0\n",
    "while flag:\n",
    "    count += 1\n",
    "    num = int(input(\"Enter a number or press '0' to exit \"))\n",
    "    if num == 0:\n",
    "        count -= 1\n",
    "        break\n",
    "    else:\n",
    "        tot += num\n",
    "print(f\"Sum of all the numbers supplied is {tot}\")\n",
    "print(f\"Avg of all the numbers supplied is {tot//count}\")"
   ]
  },
  {
   "cell_type": "markdown",
   "id": "9ea5024e",
   "metadata": {},
   "source": [
    "### Task3:\n",
    "Accept 10 numbers from the user and display their average.\n",
    "\n",
    "Hint: Use loop for accepting numbers or use split to take input in one go"
   ]
  },
  {
   "cell_type": "code",
   "execution_count": 28,
   "id": "5bebbbe8",
   "metadata": {},
   "outputs": [
    {
     "name": "stdout",
     "output_type": "stream",
     "text": [
      "enter num use ',' to split 0,1,2,3,4,5,6,7,8,9\n",
      "average is 4.5\n"
     ]
    }
   ],
   "source": [
    "# Your code goes here\n",
    "num = input(\"enter num use ',' to split \").split(\",\")\n",
    "total = 0\n",
    "count = 0\n",
    "for num in range(10):\n",
    "    total = total+num\n",
    "    count += 1\n",
    "aveg = total/count\n",
    "    \n",
    "print(f\"average is {aveg}\")\n",
    "    "
   ]
  },
  {
   "cell_type": "code",
   "execution_count": 19,
   "id": "4bcd3e5d",
   "metadata": {},
   "outputs": [
    {
     "name": "stdout",
     "output_type": "stream",
     "text": [
      "enter 10 num use ',' to split 1,2,3,4,5,6,7,8,9,0\n",
      "Avg of all the numbers supplied is 4\n"
     ]
    }
   ],
   "source": [
    "#by sir nasir\n",
    "nums = input(\"enter 10 num use ',' to split \").split(\",\")\n",
    "total = 0\n",
    "for num in nums:\n",
    "    total += int(num) \n",
    "print(f\"Avg of all the numbers supplied is {total/10}\")    "
   ]
  },
  {
   "cell_type": "code",
   "execution_count": 3,
   "id": "fd0e7d7c",
   "metadata": {},
   "outputs": [
    {
     "name": "stdout",
     "output_type": "stream",
     "text": [
      "enter your number 1\n",
      "enter your number 2\n",
      "enter your number 3\n",
      "enter your number -1\n",
      "average is 2\n"
     ]
    }
   ],
   "source": [
    "# Using while loop\n",
    "num = 0\n",
    "total = 0\n",
    "count = 0\n",
    "while num >= 0:\n",
    "    num = int(input(\"enter your number or -1 to end \"))\n",
    "    if num >= 0:\n",
    "        count += 1\n",
    "        total = total + num\n",
    "    \n",
    "avg = total//count\n",
    "print(f\"average is {avg}\")\n",
    " "
   ]
  },
  {
   "cell_type": "markdown",
   "id": "e17466dd",
   "metadata": {},
   "source": [
    "### Task4:\n",
    "Write a program to display sum of odd numbers and even numbers that fall between 12 and 37(including both numbers)\n"
   ]
  },
  {
   "cell_type": "code",
   "execution_count": 20,
   "id": "d5715b5c",
   "metadata": {},
   "outputs": [
    {
     "name": "stdout",
     "output_type": "stream",
     "text": [
      "sum of even numbers from 12-37 is 312\n",
      "sum of odd numbers from 12-37 is 325\n"
     ]
    }
   ],
   "source": [
    "# Your code goes here\n",
    "even_sum = 0\n",
    "odd_sum = 0\n",
    "\n",
    "for i in range(12,38):\n",
    "    if i%2==0:\n",
    "        even_sum += i        \n",
    "    else:\n",
    "        odd_sum += i\n",
    "\n",
    "print(f\"sum of even numbers from 12-37 is {even_sum}\\nsum of odd numbers from 12-37 is {odd_sum}\")\n",
    "       \n",
    "        \n",
    "                        \n"
   ]
  },
  {
   "cell_type": "code",
   "execution_count": 22,
   "id": "d70ccf70",
   "metadata": {},
   "outputs": [
    {
     "name": "stdout",
     "output_type": "stream",
     "text": [
      "Sum of all even numbers form 12-37 is 312 \n",
      "Sum of all odd numbers form 12-37 is 325 \n",
      "Avg of all even numbers form 12-37 is 24.0 \n",
      "Avg of all odd numbers form 12-37 is 25.0 \n"
     ]
    }
   ],
   "source": [
    "# by sir nasir\n",
    "e_sum = 0\n",
    "o_sum = 0\n",
    "e_count = 0\n",
    "o_count = 0\n",
    "for num in range(12,38):\n",
    "    if num%2 == 0:\n",
    "        e_sum += num\n",
    "        e_count += 1\n",
    "    else:\n",
    "        o_sum += num\n",
    "        o_count += 1\n",
    "print(f\"Sum of all even numbers form 12-37 is {e_sum} \")\n",
    "print(f\"Sum of all odd numbers form 12-37 is {o_sum} \")\n",
    "print(f\"Avg of all even numbers form 12-37 is {e_sum/e_count} \")\n",
    "print(f\"Avg of all odd numbers form 12-37 is {o_sum/o_count} \")"
   ]
  },
  {
   "cell_type": "markdown",
   "id": "4c64217d",
   "metadata": {},
   "source": [
    "### Task5:\n",
    "Write a program to print table of a number accepted from user.\n"
   ]
  },
  {
   "cell_type": "raw",
   "id": "0bf864bf",
   "metadata": {},
   "source": [
    "\n",
    "Output: \n",
    "7 * 1 = 7\n",
    "7 * 2 = 14\n",
    "7 * 3 = 21\n",
    "7 * 4 = 28\n",
    "7 * 5 = 35\n",
    "7 * 6 = 42\n",
    "7 * 7 = 49\n",
    "7 * 8 = 56\n",
    "7 * 9 = 63\n",
    "7 * 10 = 70\n",
    "           "
   ]
  },
  {
   "cell_type": "code",
   "execution_count": 29,
   "id": "3305bb3d",
   "metadata": {},
   "outputs": [
    {
     "name": "stdout",
     "output_type": "stream",
     "text": [
      "enter a table number 7\n",
      "7 * 1 = 7\n",
      "7 * 2 = 14\n",
      "7 * 3 = 21\n",
      "7 * 4 = 28\n",
      "7 * 5 = 35\n",
      "7 * 6 = 42\n",
      "7 * 7 = 49\n",
      "7 * 8 = 56\n",
      "7 * 9 = 63\n",
      "7 * 10 = 70\n"
     ]
    }
   ],
   "source": [
    "# Your code goes here\n",
    "table_num = int(input(\"enter a table number \"))\n",
    "for num in range(1,11):\n",
    "    print(f\"{table_num} * {num} = {table_num * num}\")"
   ]
  },
  {
   "cell_type": "markdown",
   "id": "fc08df86",
   "metadata": {},
   "source": [
    "### Task6:\n",
    "Write a program to display product of the digits of a number accepted from the user.\n",
    "\n",
    "If user inputs:123 Outputs 6\n",
    "\n",
    "If user inputs: 567 Outputs 210"
   ]
  },
  {
   "cell_type": "code",
   "execution_count": 2,
   "id": "e793d4c9",
   "metadata": {},
   "outputs": [
    {
     "name": "stdout",
     "output_type": "stream",
     "text": [
      "enter number or 0 to end 5\n",
      "enter number or 0 to end 6\n",
      "enter number or 0 to end 7\n",
      "enter number or 0 to end 0\n",
      "total product is 210\n"
     ]
    }
   ],
   "source": [
    "# Your code goes here\n",
    "product = 1\n",
    "flag = True\n",
    "while flag:\n",
    "    num = int(input(\"enter number or 0 to end \"))\n",
    "    if num == 0:\n",
    "        flag = False\n",
    "    else:\n",
    "        product *= num\n",
    "print(f\"total product is {product}\")"
   ]
  },
  {
   "cell_type": "code",
   "execution_count": 27,
   "id": "3a46efd7",
   "metadata": {},
   "outputs": [
    {
     "name": "stdout",
     "output_type": "stream",
     "text": [
      "enter a number 5,6,7\n",
      "210\n"
     ]
    }
   ],
   "source": [
    "# by sir nasir\n",
    "nums = input(\"enter a number \").split(\",\")\n",
    "if len(nums)>0:\n",
    "    prod = 1\n",
    "    for num in nums:\n",
    "        prod *= int(num)\n",
    "    print(prod)\n",
    "else:\n",
    "    print(\"Supply atleast digit len==1\")"
   ]
  },
  {
   "cell_type": "markdown",
   "id": "f041397e",
   "metadata": {},
   "source": [
    "### Task7: \n",
    "Write a program to print first 10 even numbers in reverse order."
   ]
  },
  {
   "cell_type": "code",
   "execution_count": 3,
   "id": "b639f15e",
   "metadata": {},
   "outputs": [
    {
     "name": "stdout",
     "output_type": "stream",
     "text": [
      "10\n",
      "8\n",
      "6\n",
      "4\n",
      "2\n"
     ]
    }
   ],
   "source": [
    "# Your code goes here\n",
    "for num in range(10,0,-2):\n",
    "    print(num)"
   ]
  },
  {
   "cell_type": "markdown",
   "id": "37b679bb",
   "metadata": {},
   "source": [
    "### Task8:\n",
    "Write a program to find the sum of the digits of a number accepted from user\n",
    "\n",
    "If user inputs:123 Outputs 6\n",
    "\n",
    "If user inputs: 567 Outputs 18"
   ]
  },
  {
   "cell_type": "code",
   "execution_count": 5,
   "id": "adef66ce",
   "metadata": {},
   "outputs": [
    {
     "name": "stdout",
     "output_type": "stream",
     "text": [
      "enter number or 0 to end 5\n",
      "enter number or 0 to end 6\n",
      "enter number or 0 to end 7\n",
      "enter number or 0 to end 0\n",
      "total sum is 18\n"
     ]
    }
   ],
   "source": [
    "# Your code goes here\n",
    "sum = 0\n",
    "flag = True\n",
    "while flag:\n",
    "    num = int(input(\"enter number or 0 to end \"))\n",
    "    if num == 0:\n",
    "        flag = False\n",
    "    else:\n",
    "        sum += num\n",
    "print(f\"total sum is {sum}\")"
   ]
  },
  {
   "cell_type": "code",
   "execution_count": 29,
   "id": "bd0a7f0b",
   "metadata": {},
   "outputs": [
    {
     "name": "stdout",
     "output_type": "stream",
     "text": [
      "enter a number 5,6,7\n",
      "18\n"
     ]
    }
   ],
   "source": [
    "# by sir nasir\n",
    "nums = input(\"enter a number \").split(\",\")\n",
    "if len(nums)>0:\n",
    "    sum = 0\n",
    "    for num in nums:\n",
    "        sum += int(num)\n",
    "    print(sum)\n",
    "else:\n",
    "    print(\"Supply atleast digit len==1\")"
   ]
  },
  {
   "cell_type": "markdown",
   "id": "8b87f377",
   "metadata": {},
   "source": [
    "### Task9:\n",
    "Write a program that accepts a sentence and calculate the number of letters and digits.\n",
    "\n",
    "Suppose the following input is supplied to the program:\n",
    "\n",
    "hello world! 123\n",
    "\n",
    "Then, the output should be:\n",
    "\n",
    "LETTERS 10\n",
    "\n",
    "DIGITS 3\n"
   ]
  },
  {
   "cell_type": "code",
   "execution_count": 30,
   "id": "73835ab3",
   "metadata": {},
   "outputs": [
    {
     "name": "stdout",
     "output_type": "stream",
     "text": [
      "enter a sentence hello world! 123\n",
      "LETTERS 10\n",
      "DIGITS 3\n"
     ]
    }
   ],
   "source": [
    "# Your code goes here\n",
    "sentence = input(\"enter a sentence \")\n",
    "d = l = 0\n",
    "for c in sentence:\n",
    "    if c.isdigit():\n",
    "        d += 1\n",
    "    elif c.isalpha():\n",
    "        l += 1\n",
    "    else:\n",
    "        pass\n",
    "print(f\"LETTERS {l}\\nDIGITS {d}\")"
   ]
  },
  {
   "cell_type": "markdown",
   "id": "a25b412b",
   "metadata": {},
   "source": [
    "### Task10: \n",
    "You need to trace and make a list of all such numbers from1000 to 3000 in which all the digits are even numbers."
   ]
  },
  {
   "cell_type": "code",
   "execution_count": 7,
   "id": "a3c27a5e",
   "metadata": {},
   "outputs": [
    {
     "name": "stdout",
     "output_type": "stream",
     "text": [
      "[2000, 2002, 2004, 2006, 2008, 2020, 2022, 2024, 2026, 2028, 2040, 2042, 2044, 2046, 2048, 2060, 2062, 2064, 2066, 2068, 2080, 2082, 2084, 2086, 2088, 2200, 2202, 2204, 2206, 2208, 2220, 2222, 2224, 2226, 2228, 2240, 2242, 2244, 2246, 2248, 2260, 2262, 2264, 2266, 2268, 2280, 2282, 2284, 2286, 2288, 2400, 2402, 2404, 2406, 2408, 2420, 2422, 2424, 2426, 2428, 2440, 2442, 2444, 2446, 2448, 2460, 2462, 2464, 2466, 2468, 2480, 2482, 2484, 2486, 2488, 2600, 2602, 2604, 2606, 2608, 2620, 2622, 2624, 2626, 2628, 2640, 2642, 2644, 2646, 2648, 2660, 2662, 2664, 2666, 2668, 2680, 2682, 2684, 2686, 2688, 2800, 2802, 2804, 2806, 2808, 2820, 2822, 2824, 2826, 2828, 2840, 2842, 2844, 2846, 2848, 2860, 2862, 2864, 2866, 2868, 2880, 2882, 2884, 2886, 2888]\n"
     ]
    }
   ],
   "source": [
    "# Your code goes here\n",
    "# this code donot deal 5 digit num this in not dynamic\n",
    "even = []\n",
    "for i in range(1000,3001):\n",
    "    i = str(i)\n",
    "    if( (int(i[0])%2==0) and (int(i[1])%2==0) and (int(i[2])%2==0) and (int(i[3])%2==0) ):\n",
    "        even.append(int(i))\n",
    "    else:\n",
    "        continue\n",
    "print(even)"
   ]
  },
  {
   "cell_type": "code",
   "execution_count": 11,
   "id": "38ce869b",
   "metadata": {},
   "outputs": [
    {
     "name": "stdout",
     "output_type": "stream",
     "text": [
      "enter 5 comma seperated number0,2,4,6,8\n",
      "{'4', '0', '8', '6', '2'}\n",
      "[2000, 2002, 2004, 2006, 2008, 2020, 2022, 2024, 2026, 2028, 2040, 2042, 2044, 2046, 2048, 2060, 2062, 2064, 2066, 2068, 2080, 2082, 2084, 2086, 2088, 2200, 2202, 2204, 2206, 2208, 2220, 2222, 2224, 2226, 2228, 2240, 2242, 2244, 2246, 2248, 2260, 2262, 2264, 2266, 2268, 2280, 2282, 2284, 2286, 2288, 2400, 2402, 2404, 2406, 2408, 2420, 2422, 2424, 2426, 2428, 2440, 2442, 2444, 2446, 2448, 2460, 2462, 2464, 2466, 2468, 2480, 2482, 2484, 2486, 2488, 2600, 2602, 2604, 2606, 2608, 2620, 2622, 2624, 2626, 2628, 2640, 2642, 2644, 2646, 2648, 2660, 2662, 2664, 2666, 2668, 2680, 2682, 2684, 2686, 2688, 2800, 2802, 2804, 2806, 2808, 2820, 2822, 2824, 2826, 2828, 2840, 2842, 2844, 2846, 2848, 2860, 2862, 2864, 2866, 2868, 2880, 2882, 2884, 2886, 2888]\n"
     ]
    }
   ],
   "source": [
    "#by list comprehension\n",
    "allowed = set(input(\"enter comma seperated number\").split(\",\"))\n",
    "print(allowed)\n",
    "even = [i for i in range(1000,3001) if set(str(i))<= allowed]\n",
    "print(even)"
   ]
  },
  {
   "cell_type": "markdown",
   "id": "ddc08744",
   "metadata": {},
   "source": [
    "### Task11: \n",
    "You need to write a program that counts the number of vowels in a given sentence as input from console. \n",
    "\n",
    "Suppose the following input is supplied to the program:\n",
    "\n",
    "Hello world! Practice makes perfect\n",
    "\n",
    "Then, the output should be:\n",
    "\n",
    "a appeared 2 times\n",
    "\n",
    "e appeared 5 times\n",
    "\n",
    "i appeared  1 time\n",
    "\n",
    "o appeared 2 times\n",
    "\n",
    "u appeared 0 time\n"
   ]
  },
  {
   "cell_type": "code",
   "execution_count": 15,
   "id": "0ed960fd",
   "metadata": {},
   "outputs": [
    {
     "name": "stdout",
     "output_type": "stream",
     "text": [
      "Please type a sentence: hello zuraiz\n",
      "a appears 1 times\n",
      "e appears 1 times\n",
      "i appears 1 times\n",
      "o appears 1 times\n",
      "u appears 1 times\n"
     ]
    }
   ],
   "source": [
    "# Your code goes here\n",
    "data = input(\"Please type a sentence: \").lower()\n",
    "vowels = \"aeiou\"\n",
    "for v in vowels:\n",
    "    print(f\"{v} appears {data.count(v)} times\")\n",
    "    #print(v, data.lower().count(v))"
   ]
  },
  {
   "cell_type": "markdown",
   "id": "45a0c3c4",
   "metadata": {},
   "source": [
    "### Task12:\n",
    "You need to write a program that takes sequence of lines as input and prints the lines after making all characters in the sentence capitalized.\n",
    "\n",
    "Suppose the following input is supplied to the program:\n",
    "\n",
    "Hello world\n",
    "\n",
    "Practice makes perfect\n",
    "\n",
    "Then, the output should be:\n",
    "\n",
    "HELLO WORLD\n",
    "PRACTICE MAKES PERFECT"
   ]
  },
  {
   "cell_type": "code",
   "execution_count": 16,
   "id": "029fc3d6",
   "metadata": {},
   "outputs": [
    {
     "name": "stdout",
     "output_type": "stream",
     "text": [
      "hello world\n",
      "hello python\n",
      "hello zuraiz\n",
      "\n",
      "HELLO WORLD \n",
      "HELLO PYTHON \n",
      "HELLO ZURAIZ \n",
      "\n"
     ]
    }
   ],
   "source": [
    "# Your code goes here\n",
    "sentence = \"\"\n",
    "while True:\n",
    "    line = input()\n",
    "    if line:\n",
    "        sentence += line +\" \\n\" #\\n is used to change line\n",
    "    else:\n",
    "        break\n",
    "print(sentence.upper())"
   ]
  },
  {
   "cell_type": "markdown",
   "id": "a374068f",
   "metadata": {},
   "source": [
    "### Task13:\n",
    "You need to write a code that takes a comma separated sequence of words as input and prints the words in a comma-separated sequence after sorting them alphabetically.\n",
    "\n",
    "Suppose the following input is supplied to the program:\n",
    "\n",
    "without,hello,bag,world\n",
    "\n",
    "Then, the output should be:\n",
    "\n",
    "bag,hello,without,world"
   ]
  },
  {
   "cell_type": "code",
   "execution_count": 42,
   "id": "488509b9",
   "metadata": {},
   "outputs": [
    {
     "name": "stdout",
     "output_type": "stream",
     "text": [
      "Input words: 3,2,1\n",
      "['1', '2', '3']\n"
     ]
    }
   ],
   "source": [
    "# Your code goes here\n",
    "words = input(\"Input words: \").split(',')\n",
    "\n",
    "#phrase_list = phrase.split(\",\")\n",
    "words.sort()\n",
    "print(words)\n",
    "#print(','.join(words))"
   ]
  },
  {
   "cell_type": "code",
   "execution_count": null,
   "id": "91bf6238",
   "metadata": {},
   "outputs": [],
   "source": [
    "#by sir nasir \n"
   ]
  },
  {
   "cell_type": "markdown",
   "id": "0d9422e7",
   "metadata": {},
   "source": [
    "### Task14:\n",
    "You need code a program that calculates and prints the value according to the given formula:\n",
    "P = Square root of [(2 * A * B)/C]\n",
    "\n",
    "Following are the fixed values of A and B:\n",
    "\n",
    "A is 50. B is 30.\n",
    "\n",
    "The values of the literal C should be taken as console input to your program in a comma-separated sequence.\n",
    "\n",
    "Example:\n",
    "Let us assume the following comma separated input sequence is given to the program:\n",
    "100,150,180\n",
    "\n",
    "The output of the program should be:\n",
    "18,22,24"
   ]
  },
  {
   "cell_type": "code",
   "execution_count": 28,
   "id": "1b6731be",
   "metadata": {},
   "outputs": [
    {
     "name": "stdout",
     "output_type": "stream",
     "text": [
      "Enter values of C 9,6,5\n"
     ]
    },
    {
     "data": {
      "text/plain": [
       "[18, 22, 24]"
      ]
     },
     "execution_count": 28,
     "metadata": {},
     "output_type": "execute_result"
    }
   ],
   "source": [
    "# Your code goes here\n",
    "import math\n",
    "A = 50\n",
    "B = 30\n",
    "p_vals = []\n",
    "C = input(\"Enter values of C \").split(',')\n",
    "for c in C:\n",
    "    P = (((2*A*B)/int(c))**.5)\n",
    "    p_vals.append(math.floor(P))\n",
    "p_vals"
   ]
  },
  {
   "cell_type": "code",
   "execution_count": 32,
   "id": "793cc848",
   "metadata": {},
   "outputs": [
    {
     "name": "stdout",
     "output_type": "stream",
     "text": [
      "Provide D: 100,150,180\n",
      "[18, 22, 24]\n"
     ]
    }
   ],
   "source": [
    "# by using formula given in question\n",
    "# by using floor which rounds a number down to the nearest integer \n",
    "import math\n",
    "\n",
    "numbers = input(\"Provide D: \")\n",
    "numbers = numbers.split(',')\n",
    "\n",
    "result_list = []\n",
    "for D in numbers:\n",
    "    Q = (((2 * 50 * int(D)) / 30)**.5)\n",
    "    result_list.append(math.floor(Q))\n",
    "\n",
    "print(result_list)"
   ]
  },
  {
   "cell_type": "code",
   "execution_count": 33,
   "id": "fd1fd11a",
   "metadata": {},
   "outputs": [
    {
     "name": "stdout",
     "output_type": "stream",
     "text": [
      "Provide D: 100,150,180\n",
      "[18, 22, 24]\n"
     ]
    }
   ],
   "source": [
    "#round is used to give whole numbers round(2.343414,2)result will be 2.34\n",
    "#math.sqrt is used to calculate square root\n",
    "\n",
    "import math\n",
    "\n",
    "numbers = input(\"Provide D: \")\n",
    "numbers = numbers.split(',')\n",
    "\n",
    "result_list = []\n",
    "for D in numbers:\n",
    "    Q = round(math.sqrt(2 * 50 * int(D) / 30)) \n",
    "    result_list.append(Q)                      \n",
    "\n",
    "print(result_list)"
   ]
  },
  {
   "cell_type": "markdown",
   "id": "87f9f13d",
   "metadata": {},
   "source": [
    "### Task15:\n",
    "You need to write a ocde in python that finds all such numbers which are divisible by 7 but are not a multiple of 5,\n",
    "between 2000 and 3200 (both included).\n",
    "\n",
    "Print the obtained numbers in a comma-separated sequence on a single line\n",
    "\n",
    "Hint: modulo operator, and/or operator, for loop /while loop"
   ]
  },
  {
   "cell_type": "code",
   "execution_count": 24,
   "id": "ba3d9d96",
   "metadata": {},
   "outputs": [
    {
     "name": "stdout",
     "output_type": "stream",
     "text": [
      "[2002, 2009, 2016, 2023, 2037, 2044, 2051, 2058, 2072, 2079, 2086, 2093, 2107, 2114, 2121, 2128, 2142, 2149, 2156, 2163, 2177, 2184, 2191, 2198, 2212, 2219, 2226, 2233, 2247, 2254, 2261, 2268, 2282, 2289, 2296, 2303, 2317, 2324, 2331, 2338, 2352, 2359, 2366, 2373, 2387, 2394, 2401, 2408, 2422, 2429, 2436, 2443, 2457, 2464, 2471, 2478, 2492, 2499, 2506, 2513, 2527, 2534, 2541, 2548, 2562, 2569, 2576, 2583, 2597, 2604, 2611, 2618, 2632, 2639, 2646, 2653, 2667, 2674, 2681, 2688, 2702, 2709, 2716, 2723, 2737, 2744, 2751, 2758, 2772, 2779, 2786, 2793, 2807, 2814, 2821, 2828, 2842, 2849, 2856, 2863, 2877, 2884, 2891, 2898, 2912, 2919, 2926, 2933, 2947, 2954, 2961, 2968, 2982, 2989, 2996, 3003, 3017, 3024, 3031, 3038, 3052, 3059, 3066, 3073, 3087, 3094, 3101, 3108, 3122, 3129, 3136, 3143, 3157, 3164, 3171, 3178, 3192, 3199]\n"
     ]
    }
   ],
   "source": [
    "# Your code goes here\n",
    "nums = []\n",
    "for num in range(2000,3201):\n",
    "    if (num%7==0) and (num%5!=0):\n",
    "        nums.append(num)\n",
    "print(nums)\n",
    "       \n",
    "        "
   ]
  },
  {
   "cell_type": "markdown",
   "id": "f75c81d1",
   "metadata": {},
   "source": [
    "### Task16:\n",
    "With a given integral number n, write a program to generate a dictionary that contains (i, i*i) such that is an integral number between 1 and n (both included). and then the program should print the dictionary.\n",
    "\n",
    "Suppose the following input is supplied to the program:\n",
    "\n",
    "8\n",
    "\n",
    "Then, the output should be:\n",
    "\n",
    "{1: 1, 2: 4, 3: 9, 4: 16, 5: 25, 6: 36, 7: 49, 8: 64}"
   ]
  },
  {
   "cell_type": "code",
   "execution_count": 35,
   "id": "451bacfc",
   "metadata": {},
   "outputs": [
    {
     "name": "stdout",
     "output_type": "stream",
     "text": [
      "Enter the value of n: 8\n"
     ]
    },
    {
     "data": {
      "text/plain": [
       "{1: 1, 2: 4, 3: 9, 4: 16, 5: 25, 6: 36, 7: 49, 8: 64}"
      ]
     },
     "execution_count": 35,
     "metadata": {},
     "output_type": "execute_result"
    }
   ],
   "source": [
    "# Your code goes here\n",
    "n = int(input(\"Enter the value of n: \"))\n",
    "adic = {}\n",
    "for a in range(1,n+1):\n",
    "    adic[a]=a**2 #or we can do a*a\n",
    "adic\n",
    "    "
   ]
  },
  {
   "cell_type": "code",
   "execution_count": 37,
   "id": "8cb084b8",
   "metadata": {},
   "outputs": [
    {
     "name": "stdout",
     "output_type": "stream",
     "text": [
      "Enter the value of n: 8\n"
     ]
    },
    {
     "data": {
      "text/plain": [
       "{1: 1, 2: 4, 3: 9, 4: 16, 5: 25, 6: 36, 7: 49, 8: 64}"
      ]
     },
     "execution_count": 37,
     "metadata": {},
     "output_type": "execute_result"
    }
   ],
   "source": [
    "#by dic comprehension\n",
    "n = int(input(\"Enter the value of n: \"))\n",
    "adic =  {a:a*a for a in range(1,n+1)}\n",
    "adic"
   ]
  },
  {
   "cell_type": "markdown",
   "id": "bd2b39a0",
   "metadata": {},
   "source": [
    "### Task17:\n",
    "You need to write a code which accepts a sequence of comma separated 4 digit binary numbers as its input and then check whether they are divisible by 5 or not. \n",
    "\n",
    "The numbers that are divisible by 5 are to be printed in a comma separated sequence.\n",
    "\n",
    "Example:\n",
    "\n",
    "0100,0011,1010,1001\n",
    "\n",
    "Then the output should be:\n",
    "1010\n",
    "\n",
    "Reference: \n",
    "1) https://www.datacamp.com/.../python-data-type-conversion\n",
    "\n",
    "2) https://stackoverflow.com/questions/21765779/converting-binary-to-decimal-integer-output?fbclid=IwAR3DD_oiq5pn99IjyxSJgojvB5W6M4JqQtv4EUl_IF_DtmuRXlP-DswcKAA"
   ]
  },
  {
   "cell_type": "code",
   "execution_count": 39,
   "id": "d88c2527",
   "metadata": {},
   "outputs": [
    {
     "name": "stdout",
     "output_type": "stream",
     "text": [
      "enter 4 digit binaries here 1010,1001,0100,0011\n",
      "1010\n"
     ]
    }
   ],
   "source": [
    "# Your code goes here\n",
    "binaries = input(\"enter 4 digit binaries here \").split(',')\n",
    "for bins in binaries:\n",
    "    decimal = int(bins,2)\n",
    "    if decimal%5==0:\n",
    "        print(bins)"
   ]
  },
  {
   "cell_type": "code",
   "execution_count": null,
   "id": "aab14430",
   "metadata": {},
   "outputs": [],
   "source": []
  }
 ],
 "metadata": {
  "kernelspec": {
   "display_name": "Python 3 (ipykernel)",
   "language": "python",
   "name": "python3"
  },
  "language_info": {
   "codemirror_mode": {
    "name": "ipython",
    "version": 3
   },
   "file_extension": ".py",
   "mimetype": "text/x-python",
   "name": "python",
   "nbconvert_exporter": "python",
   "pygments_lexer": "ipython3",
   "version": "3.9.12"
  }
 },
 "nbformat": 4,
 "nbformat_minor": 5
}
