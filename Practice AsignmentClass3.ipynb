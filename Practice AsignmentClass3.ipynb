{
 "cells": [
  {
   "cell_type": "markdown",
   "id": "f6519aad",
   "metadata": {},
   "source": [
    "# User input"
   ]
  },
  {
   "cell_type": "raw",
   "id": "948191fe",
   "metadata": {},
   "source": [
    "1. Take a sentence input from user using input function. Count occurence of a particular character/word in the sentence and print the message that the character appear this many times in the sentence.\n",
    "Like if user inputs> \"My name is Sana. I am an undergraduate student. I am learning Artificial Intellegence in PIAIC\"\n",
    "Your output should be:\n",
    "    I appears 5 times in your sentence\n",
    "Hint: nahi batounga use string methods.\n",
    "Note: Sana is a boy. His full name is SanaUllah😄"
   ]
  },
  {
   "cell_type": "code",
   "execution_count": 9,
   "id": "e0f1675f",
   "metadata": {},
   "outputs": [
    {
     "name": "stdout",
     "output_type": "stream",
     "text": [
      "Enter something hello zuraiz\n",
      "a appears 1 times\n",
      "e appears 1 times\n",
      "i appears 1 times\n",
      "o appears 1 times\n",
      "u appears 1 times\n"
     ]
    }
   ],
   "source": [
    "user_input = input(\"Enter something \").lower()\n",
    "vowels = \"aeiou\"\n",
    "for v in vowels:\n",
    "    print(f\"{v} appears {user_input.count(v)} times\")"
   ]
  },
  {
   "cell_type": "raw",
   "id": "bf6c3672",
   "metadata": {},
   "source": [
    "2. Take a number input from user and print the square of that number. \n",
    "\n",
    "if a user inputs 10 Your output should be like:\n",
    "    The square of 10 is 100\n",
    "if a user inputs 5 Your output should be like:\n",
    "    The square of 5 is 25\n",
    "if a user inputs 2 Your output should be like:\n",
    "    The square of 2 is 4\n"
   ]
  },
  {
   "cell_type": "code",
   "execution_count": 5,
   "id": "ce4ea359",
   "metadata": {},
   "outputs": [
    {
     "name": "stdout",
     "output_type": "stream",
     "text": [
      "enter your num -2\n",
      "Square of your number -2 is 4\n"
     ]
    }
   ],
   "source": [
    "num = int(input(\"enter your num \"))\n",
    "square = num*num \n",
    "if num>0 or num <0:\n",
    "    print(f\"Square of your number {num} is {square}\")\n",
    "else:\n",
    "    print(\"Error\")"
   ]
  },
  {
   "cell_type": "raw",
   "id": "0da0f529",
   "metadata": {},
   "source": [
    "3. Take two inputs from user using two input functions add these two numbers and print the result.\n",
    "For example if a user inputs 10 in first input, 20 in second input then your output mustbe like:\n",
    "    The sum of 10 and 20 is 30\n",
    "    \n",
    "For example if a user inputs 12 in first input, 30 in second input then your output mustbe like:\n",
    "    The sum of 12 and 30 is 42\n",
    "\n",
    "For example if a user inputs 100 in first input, 200 in second input then your out put mustbe like:\n",
    "    The sum of 100 and 200 is 300"
   ]
  },
  {
   "cell_type": "code",
   "execution_count": 10,
   "id": "f06dbe9d",
   "metadata": {},
   "outputs": [
    {
     "name": "stdout",
     "output_type": "stream",
     "text": [
      "enter 1st number 10\n",
      "enter 2nd number 20\n",
      "The sum of 10 and 20 is 30\n"
     ]
    }
   ],
   "source": [
    "num1 = int(input(\"enter 1st number \"))\n",
    "num2 = int(input(\"enter 2nd number \"))\n",
    "tot = num1 + num2\n",
    "print(f\"The sum of {num1} and {num2} is {tot}\")"
   ]
  },
  {
   "cell_type": "raw",
   "id": "f957eb50",
   "metadata": {},
   "source": [
    "4. Format a string to display a card like string:\n",
    "    \n",
    "            Presidential Initiative for AI & Computing\n",
    "                          ID CARD\n",
    "            Student Name   : Asad Ali\n",
    "            Father Name    : Amjad Ali\n",
    "            Date of Birth  : 01-01-2000\n",
    "            Course Enrolled: Artificial Intelligence\n",
    "            Batch          : 2022\n",
    "            Day            : Saturday \n",
    "            Centre         : Sir Syed University of Engg and Technology\n",
    "                \n",
    "Note: all the field values must be taken as user inputs and stored in variable"
   ]
  },
  {
   "cell_type": "code",
   "execution_count": 12,
   "id": "0f2d4d2d",
   "metadata": {},
   "outputs": [
    {
     "name": "stdout",
     "output_type": "stream",
     "text": [
      "Enter your name Muhammad Zuraiz Butt\n",
      "Enter your father name Muhammad Javed Siddiq\n",
      "Enter your date of brith eg:DD-MM-YY 26-10-2000\n",
      "Enter course your are enrolled in Artificial Intelligence\n",
      "Enter your batch num 2022\n",
      "Enter day Friday\n",
      "Enter your center name Sir Syed University of Engg and Technology\n",
      "\n",
      "        Presidential Initiative for AI & Computing\n",
      "                          ID CARD\n",
      "            Student Name   : Muhammad Zuraiz Butt\n",
      "            Father Name    : Muhammad Javed Siddiq\n",
      "            Date of Birth  : 26-10-2000\n",
      "            Course Enrolled: Artificial Intelligence\n",
      "            Batch          : 2022\n",
      "            Day            : Friday \n",
      "            Centre         : Sir Syed University of Engg and Technology\n",
      "        \n"
     ]
    }
   ],
   "source": [
    "name = input(\"Enter your name \")\n",
    "father_name = input(\"Enter your father name \")\n",
    "dob = input(\"Enter your date of brith eg:DD-MM-YY \")\n",
    "course_enrolled = input(\"Enter course your are enrolled in \")\n",
    "batch_no = int(input(\"Enter your batch num \"))\n",
    "day = input(\"Enter day \")\n",
    "center = input(\"Enter your center name \")\n",
    "\n",
    "print(f\"\"\"\n",
    "        Presidential Initiative for AI & Computing\n",
    "                          ID CARD\n",
    "            Student Name   : {name}\n",
    "            Father Name    : {father_name}\n",
    "            Date of Birth  : {dob}\n",
    "            Course Enrolled: {course_enrolled}\n",
    "            Batch          : {batch_no}\n",
    "            Day            : {day} \n",
    "            Centre         : {center}\n",
    "        \"\"\")"
   ]
  },
  {
   "cell_type": "code",
   "execution_count": null,
   "id": "cdb48d4c",
   "metadata": {},
   "outputs": [],
   "source": []
  }
 ],
 "metadata": {
  "kernelspec": {
   "display_name": "Python 3 (ipykernel)",
   "language": "python",
   "name": "python3"
  },
  "language_info": {
   "codemirror_mode": {
    "name": "ipython",
    "version": 3
   },
   "file_extension": ".py",
   "mimetype": "text/x-python",
   "name": "python",
   "nbconvert_exporter": "python",
   "pygments_lexer": "ipython3",
   "version": "3.9.12"
  }
 },
 "nbformat": 4,
 "nbformat_minor": 5
}
