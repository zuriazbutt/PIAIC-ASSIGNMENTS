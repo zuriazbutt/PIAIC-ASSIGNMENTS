{
 "cells": [
  {
   "cell_type": "markdown",
   "id": "615c3650",
   "metadata": {},
   "source": [
    "### Python Loops\n",
    " - For loop\n",
    " - While Loop"
   ]
  },
  {
   "cell_type": "code",
   "execution_count": 1,
   "id": "d84cea8f",
   "metadata": {},
   "outputs": [],
   "source": [
    "# re-useablity\n",
    "# reduce lines of code\n",
    "# well structures"
   ]
  },
  {
   "cell_type": "code",
   "execution_count": 2,
   "id": "f5590461",
   "metadata": {},
   "outputs": [
    {
     "name": "stdout",
     "output_type": "stream",
     "text": [
      "Helloworld\n",
      "Helloworld\n",
      "Helloworld\n",
      "Helloworld\n",
      "Helloworld\n",
      "Helloworld\n",
      "Helloworld\n",
      "Helloworld\n",
      "Helloworld\n",
      "Helloworld\n"
     ]
    }
   ],
   "source": [
    "print(\"Helloworld\")\n",
    "print(\"Helloworld\")\n",
    "print(\"Helloworld\")\n",
    "print(\"Helloworld\")\n",
    "print(\"Helloworld\")\n",
    "print(\"Helloworld\")\n",
    "print(\"Helloworld\")\n",
    "print(\"Helloworld\")\n",
    "print(\"Helloworld\")\n",
    "print(\"Helloworld\")"
   ]
  },
  {
   "cell_type": "markdown",
   "id": "04f97391",
   "metadata": {},
   "source": [
    "# For Loop"
   ]
  },
  {
   "cell_type": "code",
   "execution_count": 3,
   "id": "9e6be632",
   "metadata": {},
   "outputs": [
    {
     "name": "stdout",
     "output_type": "stream",
     "text": [
      "0 Hello World\n",
      "1 Hello World\n",
      "2 Hello World\n",
      "3 Hello World\n",
      "4 Hello World\n",
      "5 Hello World\n",
      "6 Hello World\n",
      "7 Hello World\n",
      "8 Hello World\n",
      "9 Hello World\n"
     ]
    }
   ],
   "source": [
    "for num in range(10):                             #[0,1,2,3,4,5,6,7,8,9]\n",
    "    print(num,\"Hello World\")  "
   ]
  },
  {
   "cell_type": "code",
   "execution_count": 4,
   "id": "21c4bf8f",
   "metadata": {},
   "outputs": [
    {
     "name": "stdout",
     "output_type": "stream",
     "text": [
      "1 Hello World\n",
      "2 Hello World\n",
      "3 Hello World\n",
      "4 Hello World\n",
      "5 Hello World\n",
      "6 Hello World\n",
      "7 Hello World\n",
      "8 Hello World\n",
      "9 Hello World\n"
     ]
    }
   ],
   "source": [
    "for num in range(1,10):                             #[1,2,3,4,5,6,7,8,9]\n",
    "    print(num,\"Hello World\")  "
   ]
  },
  {
   "cell_type": "code",
   "execution_count": 5,
   "id": "b582db74",
   "metadata": {},
   "outputs": [
    {
     "name": "stdout",
     "output_type": "stream",
     "text": [
      "5 Hello World\n",
      "6 Hello World\n",
      "7 Hello World\n",
      "8 Hello World\n",
      "9 Hello World\n"
     ]
    }
   ],
   "source": [
    "for num in range(5,10):                             #[5,6,7,8,9]\n",
    "    print(num,\"Hello World\")  "
   ]
  },
  {
   "cell_type": "code",
   "execution_count": 8,
   "id": "d75f7a11",
   "metadata": {},
   "outputs": [
    {
     "name": "stdout",
     "output_type": "stream",
     "text": [
      "1\n",
      "3\n",
      "5\n",
      "7\n",
      "9\n"
     ]
    }
   ],
   "source": [
    "for num in range(1,10,2):#(start, end-1,step)                    #[1,3,5,7,9]\n",
    "    print(num)"
   ]
  },
  {
   "cell_type": "code",
   "execution_count": 10,
   "id": "2c875890",
   "metadata": {},
   "outputs": [
    {
     "name": "stdout",
     "output_type": "stream",
     "text": [
      "0\n",
      "2\n",
      "4\n",
      "6\n",
      "8\n"
     ]
    }
   ],
   "source": [
    "for num in range(0,10,2):                             #[1,2,3,4,5,6,7,8,9]\n",
    "    print(num)  "
   ]
  },
  {
   "cell_type": "code",
   "execution_count": 11,
   "id": "229ff976",
   "metadata": {},
   "outputs": [
    {
     "name": "stdout",
     "output_type": "stream",
     "text": [
      "10\n",
      "9\n",
      "8\n",
      "7\n",
      "6\n",
      "5\n",
      "4\n",
      "3\n",
      "2\n",
      "1\n"
     ]
    }
   ],
   "source": [
    "for num in range(10,0,-1):\n",
    "    print(num)"
   ]
  },
  {
   "cell_type": "code",
   "execution_count": 12,
   "id": "4e9f4921",
   "metadata": {},
   "outputs": [
    {
     "name": "stdout",
     "output_type": "stream",
     "text": [
      "10\n",
      "8\n",
      "6\n",
      "4\n",
      "2\n"
     ]
    }
   ],
   "source": [
    "for num in range(10,0,-2):\n",
    "    print(num)"
   ]
  },
  {
   "cell_type": "code",
   "execution_count": 13,
   "id": "978fce8f",
   "metadata": {},
   "outputs": [
    {
     "name": "stdout",
     "output_type": "stream",
     "text": [
      "P\n",
      "a\n",
      "k\n",
      "i\n",
      "s\n",
      "t\n",
      "a\n",
      "n\n"
     ]
    }
   ],
   "source": [
    "for char in \"Pakistan\":\n",
    "    print(char)"
   ]
  },
  {
   "cell_type": "code",
   "execution_count": 15,
   "id": "aebaefbe",
   "metadata": {},
   "outputs": [
    {
     "name": "stdout",
     "output_type": "stream",
     "text": [
      "KEYBOARD\n",
      "MOUSE\n",
      "MONITOR\n",
      "HEADFONE\n",
      "PEN\n",
      "NOTEBOOK\n"
     ]
    }
   ],
   "source": [
    "for item in [\"Keyboard\",\"Mouse\",\"Monitor\",\"Headfone\",\"Pen\",\"Notebook\"]:\n",
    "    print(item.upper())"
   ]
  },
  {
   "cell_type": "code",
   "execution_count": 16,
   "id": "6425910d",
   "metadata": {},
   "outputs": [
    {
     "ename": "TypeError",
     "evalue": "'int' object is not iterable",
     "output_type": "error",
     "traceback": [
      "\u001b[1;31m---------------------------------------------------------------------------\u001b[0m",
      "\u001b[1;31mTypeError\u001b[0m                                 Traceback (most recent call last)",
      "\u001b[1;32m<ipython-input-16-327aa7fbb781>\u001b[0m in \u001b[0;36m<module>\u001b[1;34m\u001b[0m\n\u001b[1;32m----> 1\u001b[1;33m \u001b[1;32mfor\u001b[0m \u001b[0mnum\u001b[0m \u001b[1;32min\u001b[0m \u001b[1;36m5007\u001b[0m\u001b[1;33m:\u001b[0m\u001b[1;33m\u001b[0m\u001b[1;33m\u001b[0m\u001b[0m\n\u001b[0m\u001b[0;32m      2\u001b[0m     \u001b[0mprint\u001b[0m\u001b[1;33m(\u001b[0m\u001b[0mnum\u001b[0m\u001b[1;33m)\u001b[0m\u001b[1;33m\u001b[0m\u001b[1;33m\u001b[0m\u001b[0m\n",
      "\u001b[1;31mTypeError\u001b[0m: 'int' object is not iterable"
     ]
    }
   ],
   "source": [
    "for num in 5007:\n",
    "    print(num)"
   ]
  },
  {
   "cell_type": "code",
   "execution_count": 19,
   "id": "14f26f5a",
   "metadata": {},
   "outputs": [],
   "source": [
    "items = [\"Keyboard\",\"Mouse\",\"Monitor\",\"Headfone\",\"Pen\",\"Notebook\"]"
   ]
  },
  {
   "cell_type": "code",
   "execution_count": 20,
   "id": "02b03960",
   "metadata": {},
   "outputs": [
    {
     "name": "stdout",
     "output_type": "stream",
     "text": [
      "NOTEBOOK\n",
      "PEN\n",
      "HEADFONE\n",
      "MONITOR\n",
      "MOUSE\n",
      "KEYBOARD\n"
     ]
    }
   ],
   "source": [
    "for item in items[::-1]:\n",
    "    print(item.upper())"
   ]
  },
  {
   "cell_type": "code",
   "execution_count": 22,
   "id": "129d0caf",
   "metadata": {},
   "outputs": [
    {
     "name": "stdout",
     "output_type": "stream",
     "text": [
      "PEN\n",
      "NOTEBOOK\n"
     ]
    }
   ],
   "source": [
    "for item in items[-2:]:\n",
    "    print(item.upper())"
   ]
  },
  {
   "cell_type": "code",
   "execution_count": 23,
   "id": "1baf4ecc",
   "metadata": {},
   "outputs": [],
   "source": [
    "items = [\"Bag\",\"Ball\",\"Cap\",\"Copy\",\"Knife\",\"Keyboard\",\"Mouse\",\"Monitor\",\"Headfone\",\"Pen\",\"Notebook\"]"
   ]
  },
  {
   "cell_type": "code",
   "execution_count": 25,
   "id": "07825ec4",
   "metadata": {},
   "outputs": [
    {
     "name": "stdout",
     "output_type": "stream",
     "text": [
      "Knife\n",
      "Mouse\n",
      "Headfone\n"
     ]
    }
   ],
   "source": [
    "for item in items:\n",
    "    if item.endswith(\"e\"):\n",
    "        print(item)\n",
    "    "
   ]
  },
  {
   "cell_type": "code",
   "execution_count": 26,
   "id": "9297ccc6",
   "metadata": {},
   "outputs": [
    {
     "name": "stdout",
     "output_type": "stream",
     "text": [
      "Headfone\n"
     ]
    }
   ],
   "source": [
    "for item in items:\n",
    "    if (item[-1] == 'e') and (len(item) > 5):\n",
    "        print(item)\n"
   ]
  },
  {
   "cell_type": "code",
   "execution_count": 27,
   "id": "b16ab98e",
   "metadata": {},
   "outputs": [
    {
     "data": {
      "text/plain": [
       "['Bag',\n",
       " 'Ball',\n",
       " 'Cap',\n",
       " 'Copy',\n",
       " 'Knife',\n",
       " 'Keyboard',\n",
       " 'Mouse',\n",
       " 'Monitor',\n",
       " 'Headfone',\n",
       " 'Pen',\n",
       " 'Notebook']"
      ]
     },
     "execution_count": 27,
     "metadata": {},
     "output_type": "execute_result"
    }
   ],
   "source": [
    "items"
   ]
  },
  {
   "cell_type": "code",
   "execution_count": 28,
   "id": "d37cfb64",
   "metadata": {},
   "outputs": [
    {
     "name": "stdout",
     "output_type": "stream",
     "text": [
      "Bag\n",
      "Ball\n",
      "Cap\n",
      "Copy\n",
      "Knife\n",
      "Mouse\n",
      "Headfone\n",
      "Pen\n"
     ]
    }
   ],
   "source": [
    "for item in items:\n",
    "    if (item[-1] == 'e') or (len(item) < 5):\n",
    "        print(item)\n"
   ]
  },
  {
   "cell_type": "raw",
   "id": "a0c8624b",
   "metadata": {},
   "source": [
    "Task: we need to make a list of 50 friends to invite in a party. \n",
    "    take friends name as input and add in guest list"
   ]
  },
  {
   "cell_type": "code",
   "execution_count": 29,
   "id": "f33b053c",
   "metadata": {},
   "outputs": [
    {
     "name": "stdout",
     "output_type": "stream",
     "text": [
      "Enter your friends namea\n",
      "Enter your friends nameb\n",
      "Enter your friends namec\n",
      "Enter your friends named\n",
      "Enter your friends namee\n"
     ]
    }
   ],
   "source": [
    "f1 = input(\"Enter your friends name\")\n",
    "f2 = input(\"Enter your friends name\")\n",
    "f3 = input(\"Enter your friends name\")\n",
    "f4 = input(\"Enter your friends name\")\n",
    "f5 = input(\"Enter your friends name\")\n",
    "guest_list = [f1,f2,f3,f4,f5]"
   ]
  },
  {
   "cell_type": "code",
   "execution_count": 31,
   "id": "2a4a9654",
   "metadata": {},
   "outputs": [
    {
     "name": "stdout",
     "output_type": "stream",
     "text": [
      "Enter you friends nameNasir\n",
      "Enter you friends nameJaffer\n",
      "Enter you friends nameAli\n",
      "Enter you friends nameKamil\n",
      "Enter you friends namefahad\n"
     ]
    }
   ],
   "source": [
    "guest= []\n",
    "for a in range(5):\n",
    "    friend = input(\"Enter you friends name\")\n",
    "    guest.append(friend)   "
   ]
  },
  {
   "cell_type": "code",
   "execution_count": 32,
   "id": "5dfa378d",
   "metadata": {},
   "outputs": [
    {
     "data": {
      "text/plain": [
       "['Nasir', 'Jaffer', 'Ali', 'Kamil', 'fahad']"
      ]
     },
     "execution_count": 32,
     "metadata": {},
     "output_type": "execute_result"
    }
   ],
   "source": [
    "guest"
   ]
  },
  {
   "cell_type": "markdown",
   "id": "a352c021",
   "metadata": {},
   "source": [
    "# Break , Continue"
   ]
  },
  {
   "cell_type": "code",
   "execution_count": 37,
   "id": "a425128a",
   "metadata": {},
   "outputs": [
    {
     "name": "stdout",
     "output_type": "stream",
     "text": [
      "0\n",
      "1\n",
      "2\n",
      "3\n",
      "4\n"
     ]
    }
   ],
   "source": [
    "for a in range(10):\n",
    "    if a==5:\n",
    "        break\n",
    "    print(a)"
   ]
  },
  {
   "cell_type": "code",
   "execution_count": 38,
   "id": "de3efd26",
   "metadata": {},
   "outputs": [
    {
     "name": "stdout",
     "output_type": "stream",
     "text": [
      "0\n",
      "1\n",
      "2\n",
      "3\n",
      "4\n",
      "5\n"
     ]
    }
   ],
   "source": [
    "for a in range(10):\n",
    "    print(a)\n",
    "    if a==5:\n",
    "        break "
   ]
  },
  {
   "cell_type": "code",
   "execution_count": 39,
   "id": "273233fb",
   "metadata": {},
   "outputs": [
    {
     "name": "stdout",
     "output_type": "stream",
     "text": [
      "0\n",
      "1\n",
      "2\n",
      "3\n",
      "4\n",
      "6\n",
      "7\n",
      "8\n",
      "9\n"
     ]
    }
   ],
   "source": [
    "for a in range(10):    \n",
    "    if a==5:        \n",
    "        continue        \n",
    "    print(a)"
   ]
  },
  {
   "cell_type": "raw",
   "id": "f7e8204e",
   "metadata": {},
   "source": [
    "task: take 10 integers as input and find the sum of all integers supplied. "
   ]
  },
  {
   "cell_type": "code",
   "execution_count": 45,
   "id": "3c60db9c",
   "metadata": {},
   "outputs": [
    {
     "name": "stdout",
     "output_type": "stream",
     "text": [
      "Enter a number of your choice1\n",
      "Enter a number of your choice1\n",
      "Enter a number of your choice1\n",
      "Enter a number of your choice1\n",
      "Enter a number of your choice1\n",
      "Enter a number of your choice1\n",
      "Enter a number of your choice1\n",
      "Enter a number of your choice1\n",
      "Enter a number of your choice1\n",
      "Enter a number of your choice1\n",
      "10\n"
     ]
    }
   ],
   "source": [
    "tot = 0\n",
    "for a in range(10):\n",
    "    num = int(input(\"Enter a number of your choice\"))\n",
    "    tot +=num\n",
    "print(tot)    "
   ]
  },
  {
   "cell_type": "code",
   "execution_count": 46,
   "id": "869a2363",
   "metadata": {},
   "outputs": [
    {
     "name": "stdout",
     "output_type": "stream",
     "text": [
      "Enter numbers of you choice comma separated2,44,55,6,88,9,0,1\n"
     ]
    },
    {
     "data": {
      "text/plain": [
       "1"
      ]
     },
     "execution_count": 46,
     "metadata": {},
     "output_type": "execute_result"
    }
   ],
   "source": [
    "nums  = input(\"Enter numbers of you choice comma separated\").split(\",\")\n"
   ]
  },
  {
   "cell_type": "code",
   "execution_count": 47,
   "id": "9d671f99",
   "metadata": {},
   "outputs": [
    {
     "data": {
      "text/plain": [
       "['2', '44', '55', '6', '88', '9', '0', '1']"
      ]
     },
     "execution_count": 47,
     "metadata": {},
     "output_type": "execute_result"
    }
   ],
   "source": [
    "nums"
   ]
  },
  {
   "cell_type": "code",
   "execution_count": 49,
   "id": "a243d406",
   "metadata": {},
   "outputs": [
    {
     "name": "stdout",
     "output_type": "stream",
     "text": [
      "Enter numbers of you choice comma separated2,3,4,5,6,7,8,9,1\n"
     ]
    },
    {
     "data": {
      "text/plain": [
       "45"
      ]
     },
     "execution_count": 49,
     "metadata": {},
     "output_type": "execute_result"
    }
   ],
   "source": [
    "nums  = input(\"Enter numbers of you choice comma separated\").split(\",\")\n",
    "tot=0\n",
    "for num in nums:\n",
    "    tot +=int(num)\n",
    "tot"
   ]
  },
  {
   "cell_type": "markdown",
   "id": "1a79430b",
   "metadata": {},
   "source": [
    "# While Loop"
   ]
  },
  {
   "cell_type": "code",
   "execution_count": 51,
   "id": "07800c87",
   "metadata": {},
   "outputs": [
    {
     "name": "stdout",
     "output_type": "stream",
     "text": [
      "0\n",
      "1\n",
      "2\n",
      "3\n",
      "4\n",
      "5\n",
      "6\n",
      "7\n",
      "8\n",
      "9\n",
      "10\n"
     ]
    }
   ],
   "source": [
    "a = 0\n",
    "while a<=10:\n",
    "    print(a)\n",
    "    a +=1"
   ]
  },
  {
   "cell_type": "code",
   "execution_count": 52,
   "id": "fa53d067",
   "metadata": {},
   "outputs": [
    {
     "name": "stdout",
     "output_type": "stream",
     "text": [
      "10\n",
      "9\n",
      "8\n",
      "7\n",
      "6\n",
      "5\n",
      "4\n",
      "3\n",
      "2\n",
      "1\n",
      "0\n"
     ]
    }
   ],
   "source": [
    "a = 10\n",
    "while a>=0:\n",
    "    print(a)\n",
    "    a -=1"
   ]
  },
  {
   "cell_type": "code",
   "execution_count": 3,
   "id": "71d6f9cf",
   "metadata": {},
   "outputs": [
    {
     "name": "stdout",
     "output_type": "stream",
     "text": [
      "Enter a guest name or press 'q' to exitq\n"
     ]
    },
    {
     "data": {
      "text/plain": [
       "[]"
      ]
     },
     "execution_count": 3,
     "metadata": {},
     "output_type": "execute_result"
    }
   ],
   "source": [
    "myguests = []\n",
    "flag = True\n",
    "while flag:\n",
    "    guestName = input(\"Enter a guest name or press 'q' to exit\")\n",
    "    if guestName==\"q\":\n",
    "        flag=False\n",
    "    else:\n",
    "        myguests.append(guestName)\n",
    "myguests"
   ]
  },
  {
   "cell_type": "markdown",
   "id": "769224b7",
   "metadata": {},
   "source": [
    "# List Comprehension"
   ]
  },
  {
   "cell_type": "code",
   "execution_count": 4,
   "id": "d78c2e4d",
   "metadata": {},
   "outputs": [
    {
     "data": {
      "text/plain": [
       "[0, 2, 4, 6, 8, 10, 12, 14, 16, 18]"
      ]
     },
     "execution_count": 4,
     "metadata": {},
     "output_type": "execute_result"
    }
   ],
   "source": [
    "evens=[]\n",
    "\n",
    "for num in range(20):\n",
    "    if num%2==0:\n",
    "        evens.append(num)\n",
    "evens    "
   ]
  },
  {
   "cell_type": "code",
   "execution_count": 24,
   "id": "882f1592",
   "metadata": {},
   "outputs": [
    {
     "data": {
      "text/plain": [
       "[0, 2, 4, 6, 8, 10, 12, 14, 16, 18]"
      ]
     },
     "execution_count": 24,
     "metadata": {},
     "output_type": "execute_result"
    }
   ],
   "source": [
    "[num for num in range(20) if num%2==0]"
   ]
  },
  {
   "cell_type": "code",
   "execution_count": 9,
   "id": "d6785ce4",
   "metadata": {},
   "outputs": [
    {
     "data": {
      "text/plain": [
       "[1, 3, 5, 7, 9, 11, 13, 15, 17, 19]"
      ]
     },
     "execution_count": 9,
     "metadata": {},
     "output_type": "execute_result"
    }
   ],
   "source": [
    "odds=[]\n",
    "\n",
    "for num in range(20):\n",
    "    if num%2!=0:\n",
    "        odds.append(num)\n",
    "odds    "
   ]
  },
  {
   "cell_type": "code",
   "execution_count": 10,
   "id": "67e9cb3d",
   "metadata": {},
   "outputs": [
    {
     "data": {
      "text/plain": [
       "[1, 3, 5, 7, 9, 11, 13, 15, 17, 19]"
      ]
     },
     "execution_count": 10,
     "metadata": {},
     "output_type": "execute_result"
    }
   ],
   "source": [
    "[num for num in range(20) if num%2!=0]"
   ]
  },
  {
   "cell_type": "code",
   "execution_count": 11,
   "id": "52026162",
   "metadata": {},
   "outputs": [
    {
     "data": {
      "text/plain": [
       "[11, 13, 15, 17, 19]"
      ]
     },
     "execution_count": 11,
     "metadata": {},
     "output_type": "execute_result"
    }
   ],
   "source": [
    "[num for num in range(20) if num%2!=0 if num>10]"
   ]
  },
  {
   "cell_type": "markdown",
   "id": "42a5ad55",
   "metadata": {},
   "source": [
    "#### if else in list comprehension"
   ]
  },
  {
   "cell_type": "code",
   "execution_count": 13,
   "id": "96faf7ff",
   "metadata": {},
   "outputs": [
    {
     "data": {
      "text/plain": [
       "['0 is Even',\n",
       " '1 is Odd',\n",
       " '2 is Even',\n",
       " '3 is Odd',\n",
       " '4 is Even',\n",
       " '5 is Odd',\n",
       " '6 is Even',\n",
       " '7 is Odd',\n",
       " '8 is Even',\n",
       " '9 is Odd',\n",
       " '10 is Even',\n",
       " '11 is Odd',\n",
       " '12 is Even',\n",
       " '13 is Odd',\n",
       " '14 is Even',\n",
       " '15 is Odd',\n",
       " '16 is Even',\n",
       " '17 is Odd',\n",
       " '18 is Even',\n",
       " '19 is Odd']"
      ]
     },
     "execution_count": 13,
     "metadata": {},
     "output_type": "execute_result"
    }
   ],
   "source": [
    "[f\"{n} is Even\" if n%2==0 else f\"{n} is Odd\" for n in range(20)]"
   ]
  },
  {
   "cell_type": "markdown",
   "id": "b7a71194",
   "metadata": {},
   "source": [
    "# Nested For Loop"
   ]
  },
  {
   "cell_type": "code",
   "execution_count": 4,
   "id": "98fc784d",
   "metadata": {},
   "outputs": [
    {
     "name": "stdout",
     "output_type": "stream",
     "text": [
      "0 * 1 = 0\n",
      "0 * 2 = 0\n",
      "0 * 3 = 0\n",
      "0 * 4 = 0\n",
      "0 * 5 = 0\n",
      "0 * 6 = 0\n",
      "0 * 7 = 0\n",
      "0 * 8 = 0\n",
      "0 * 9 = 0\n",
      "0 * 10 = 0\n",
      "1 * 1 = 1\n",
      "1 * 2 = 2\n",
      "1 * 3 = 3\n",
      "1 * 4 = 4\n",
      "1 * 5 = 5\n",
      "1 * 6 = 6\n",
      "1 * 7 = 7\n",
      "1 * 8 = 8\n",
      "1 * 9 = 9\n",
      "1 * 10 = 10\n"
     ]
    }
   ],
   "source": [
    "for table_num in range(2):\n",
    "    for num in range(1,11):\n",
    "        print(f\"{table_num} * {num} = {table_num *num}\")          "
   ]
  },
  {
   "cell_type": "code",
   "execution_count": 21,
   "id": "12d40890",
   "metadata": {},
   "outputs": [
    {
     "data": {
      "text/plain": [
       "[(0, 'A'),\n",
       " (0, 'B'),\n",
       " (0, 'C'),\n",
       " (1, 'A'),\n",
       " (1, 'B'),\n",
       " (1, 'C'),\n",
       " (2, 'A'),\n",
       " (2, 'B'),\n",
       " (2, 'C')]"
      ]
     },
     "execution_count": 21,
     "metadata": {},
     "output_type": "execute_result"
    }
   ],
   "source": [
    "[(x,y) for x in range(3) for y in 'ABC' ]"
   ]
  },
  {
   "cell_type": "code",
   "execution_count": 22,
   "id": "10c2aa7c",
   "metadata": {},
   "outputs": [
    {
     "data": {
      "text/plain": [
       "[(1, 'A'), (1, 'B'), (1, 'C'), (2, 'A'), (2, 'B'), (2, 'C')]"
      ]
     },
     "execution_count": 22,
     "metadata": {},
     "output_type": "execute_result"
    }
   ],
   "source": [
    "[(x,y) for x in range(3) for y in 'ABC' if x>0]"
   ]
  },
  {
   "cell_type": "code",
   "execution_count": 25,
   "id": "21b53368",
   "metadata": {},
   "outputs": [
    {
     "data": {
      "text/plain": [
       "[1,\n",
       " 2,\n",
       " 3,\n",
       " 4,\n",
       " 6,\n",
       " 8,\n",
       " 9,\n",
       " 11,\n",
       " 12,\n",
       " 13,\n",
       " 16,\n",
       " 17,\n",
       " 18,\n",
       " 19,\n",
       " 22,\n",
       " 23,\n",
       " 24,\n",
       " 26,\n",
       " 27,\n",
       " 29,\n",
       " 31,\n",
       " 32,\n",
       " 33,\n",
       " 34,\n",
       " 36,\n",
       " 37,\n",
       " 38,\n",
       " 39,\n",
       " 41,\n",
       " 43,\n",
       " 44,\n",
       " 46,\n",
       " 47,\n",
       " 48,\n",
       " 51,\n",
       " 52,\n",
       " 53,\n",
       " 54,\n",
       " 57,\n",
       " 58,\n",
       " 59,\n",
       " 61,\n",
       " 62,\n",
       " 64,\n",
       " 66,\n",
       " 67,\n",
       " 68,\n",
       " 69,\n",
       " 71,\n",
       " 72,\n",
       " 73,\n",
       " 74,\n",
       " 76,\n",
       " 78,\n",
       " 79,\n",
       " 81,\n",
       " 82,\n",
       " 83,\n",
       " 86,\n",
       " 87,\n",
       " 88,\n",
       " 89,\n",
       " 92,\n",
       " 93,\n",
       " 94,\n",
       " 96,\n",
       " 97,\n",
       " 99]"
      ]
     },
     "execution_count": 25,
     "metadata": {},
     "output_type": "execute_result"
    }
   ],
   "source": [
    "[a for a in range(1,100) if ((a%7!=0) and (a%5!=0))]"
   ]
  },
  {
   "cell_type": "markdown",
   "id": "252178f1",
   "metadata": {},
   "source": [
    "make a list of sqaures of first ten natural numbers"
   ]
  },
  {
   "cell_type": "code",
   "execution_count": 26,
   "id": "ff7ce691",
   "metadata": {},
   "outputs": [
    {
     "data": {
      "text/plain": [
       "[1, 4, 9, 16, 25, 36, 49, 64, 81, 100]"
      ]
     },
     "execution_count": 26,
     "metadata": {},
     "output_type": "execute_result"
    }
   ],
   "source": [
    "[a**2 for a in range(1,11)]"
   ]
  },
  {
   "cell_type": "code",
   "execution_count": 27,
   "id": "ab4889c6",
   "metadata": {},
   "outputs": [
    {
     "data": {
      "text/plain": [
       "[1.0,\n",
       " 1.4142135623730951,\n",
       " 1.7320508075688772,\n",
       " 2.0,\n",
       " 2.23606797749979,\n",
       " 2.449489742783178,\n",
       " 2.6457513110645907,\n",
       " 2.8284271247461903,\n",
       " 3.0,\n",
       " 3.1622776601683795]"
      ]
     },
     "execution_count": 27,
     "metadata": {},
     "output_type": "execute_result"
    }
   ],
   "source": [
    "[a**.5 for a in range(1,11)]"
   ]
  },
  {
   "cell_type": "markdown",
   "id": "da04e086",
   "metadata": {},
   "source": [
    "# Dictionary"
   ]
  },
  {
   "cell_type": "code",
   "execution_count": 31,
   "id": "33f060e6",
   "metadata": {},
   "outputs": [],
   "source": [
    "adict = {}\n",
    "aset=   {}"
   ]
  },
  {
   "cell_type": "code",
   "execution_count": 30,
   "id": "f4d70a32",
   "metadata": {},
   "outputs": [
    {
     "data": {
      "text/plain": [
       "dict"
      ]
     },
     "execution_count": 30,
     "metadata": {},
     "output_type": "execute_result"
    }
   ],
   "source": [
    "type(adict)"
   ]
  },
  {
   "cell_type": "code",
   "execution_count": 32,
   "id": "efa793a3",
   "metadata": {},
   "outputs": [
    {
     "data": {
      "text/plain": [
       "dict"
      ]
     },
     "execution_count": 32,
     "metadata": {},
     "output_type": "execute_result"
    }
   ],
   "source": [
    "type(aset)"
   ]
  },
  {
   "cell_type": "code",
   "execution_count": 33,
   "id": "73543174",
   "metadata": {},
   "outputs": [
    {
     "data": {
      "text/plain": [
       "set"
      ]
     },
     "execution_count": 33,
     "metadata": {},
     "output_type": "execute_result"
    }
   ],
   "source": [
    "aset={4}\n",
    "type(aset)"
   ]
  },
  {
   "cell_type": "code",
   "execution_count": 46,
   "id": "721c0b22",
   "metadata": {},
   "outputs": [],
   "source": [
    "#A dictionary has a key:value pair\n",
    "\n",
    "student1 = {'name':\"Jamal\", 'roll':1234, 'email':'abc@gmail.com', 'name':\"Kamal\"}"
   ]
  },
  {
   "cell_type": "code",
   "execution_count": 48,
   "id": "b5ea9aee",
   "metadata": {},
   "outputs": [
    {
     "data": {
      "text/plain": [
       "{'name': 'Kamal', 'roll': 1234, 'email': 'abc@gmail.com'}"
      ]
     },
     "execution_count": 48,
     "metadata": {},
     "output_type": "execute_result"
    }
   ],
   "source": [
    "student1"
   ]
  },
  {
   "cell_type": "code",
   "execution_count": 49,
   "id": "6f846e09",
   "metadata": {},
   "outputs": [],
   "source": [
    "# There is no indexing concept in dict"
   ]
  },
  {
   "cell_type": "code",
   "execution_count": 50,
   "id": "6a28eec1",
   "metadata": {},
   "outputs": [
    {
     "data": {
      "text/plain": [
       "1234"
      ]
     },
     "execution_count": 50,
     "metadata": {},
     "output_type": "execute_result"
    }
   ],
   "source": [
    "student1['roll']"
   ]
  },
  {
   "cell_type": "code",
   "execution_count": 51,
   "id": "e9e53741",
   "metadata": {},
   "outputs": [
    {
     "data": {
      "text/plain": [
       "'abc@gmail.com'"
      ]
     },
     "execution_count": 51,
     "metadata": {},
     "output_type": "execute_result"
    }
   ],
   "source": [
    "student1['email']"
   ]
  },
  {
   "cell_type": "code",
   "execution_count": 52,
   "id": "de4cdc62",
   "metadata": {},
   "outputs": [],
   "source": [
    "#add new members/new key in existing dict"
   ]
  },
  {
   "cell_type": "code",
   "execution_count": 53,
   "id": "4093ec4e",
   "metadata": {},
   "outputs": [],
   "source": [
    "student1['father']=\"Hassan\""
   ]
  },
  {
   "cell_type": "code",
   "execution_count": 54,
   "id": "d68ba020",
   "metadata": {},
   "outputs": [
    {
     "data": {
      "text/plain": [
       "{'name': 'Kamal', 'roll': 1234, 'email': 'abc@gmail.com', 'father': 'Hassan'}"
      ]
     },
     "execution_count": 54,
     "metadata": {},
     "output_type": "execute_result"
    }
   ],
   "source": [
    "student1"
   ]
  },
  {
   "cell_type": "code",
   "execution_count": 55,
   "id": "acd2bcda",
   "metadata": {},
   "outputs": [],
   "source": [
    "student1['father']=\"Hussain\""
   ]
  },
  {
   "cell_type": "code",
   "execution_count": 56,
   "id": "c4124020",
   "metadata": {},
   "outputs": [
    {
     "data": {
      "text/plain": [
       "{'name': 'Kamal', 'roll': 1234, 'email': 'abc@gmail.com', 'father': 'Hussain'}"
      ]
     },
     "execution_count": 56,
     "metadata": {},
     "output_type": "execute_result"
    }
   ],
   "source": [
    "student1"
   ]
  },
  {
   "cell_type": "code",
   "execution_count": 57,
   "id": "1c37212d",
   "metadata": {},
   "outputs": [
    {
     "name": "stdout",
     "output_type": "stream",
     "text": [
      "name\n",
      "roll\n",
      "email\n",
      "father\n"
     ]
    }
   ],
   "source": [
    "# if we iterate directly on dictionary it will return keys only\n",
    "for a in student1:\n",
    "    print(a)    "
   ]
  },
  {
   "cell_type": "code",
   "execution_count": 58,
   "id": "73a9a13a",
   "metadata": {},
   "outputs": [
    {
     "name": "stdout",
     "output_type": "stream",
     "text": [
      "name\n",
      "roll\n",
      "email\n",
      "father\n"
     ]
    }
   ],
   "source": [
    "# if we iterate on dictionary.keys() it will return keys.\n",
    "for a in student1.keys():\n",
    "    print(a)    "
   ]
  },
  {
   "cell_type": "code",
   "execution_count": 60,
   "id": "feb62fb8",
   "metadata": {},
   "outputs": [
    {
     "name": "stdout",
     "output_type": "stream",
     "text": [
      "name Kamal\n",
      "roll 1234\n",
      "email abc@gmail.com\n",
      "father Hussain\n"
     ]
    }
   ],
   "source": [
    "# we can get values by keys \n",
    "for a in student1.keys():\n",
    "    print(a, student1[a])    "
   ]
  },
  {
   "cell_type": "code",
   "execution_count": 61,
   "id": "4c9aa80f",
   "metadata": {},
   "outputs": [
    {
     "name": "stdout",
     "output_type": "stream",
     "text": [
      "Kamal\n",
      "1234\n",
      "abc@gmail.com\n",
      "Hussain\n"
     ]
    }
   ],
   "source": [
    "# we can get values against keys by get()\n",
    "for a in student1.keys():\n",
    "    print(student1.get(a))"
   ]
  },
  {
   "cell_type": "code",
   "execution_count": 62,
   "id": "628cffcc",
   "metadata": {},
   "outputs": [
    {
     "name": "stdout",
     "output_type": "stream",
     "text": [
      "Kamal\n",
      "1234\n",
      "abc@gmail.com\n",
      "Hussain\n"
     ]
    }
   ],
   "source": [
    "# we can get values directly\n",
    "for vals in student1.values():\n",
    "    print(vals)    "
   ]
  },
  {
   "cell_type": "markdown",
   "id": "14453850",
   "metadata": {},
   "source": [
    "if we store more than a value in a single variable without mentioning any of the collection name it will be stored in form of a tuple"
   ]
  },
  {
   "cell_type": "code",
   "execution_count": 64,
   "id": "7c799782",
   "metadata": {},
   "outputs": [
    {
     "data": {
      "text/plain": [
       "(12, 13)"
      ]
     },
     "execution_count": 64,
     "metadata": {},
     "output_type": "execute_result"
    }
   ],
   "source": [
    "a= 12,13\n",
    "a"
   ]
  },
  {
   "cell_type": "code",
   "execution_count": 65,
   "id": "99fd32bc",
   "metadata": {},
   "outputs": [],
   "source": [
    "a = [12,13] # packing \n",
    "\n",
    "x,y = a    #unpacking"
   ]
  },
  {
   "cell_type": "code",
   "execution_count": 68,
   "id": "a65a055e",
   "metadata": {},
   "outputs": [
    {
     "data": {
      "text/plain": [
       "12"
      ]
     },
     "execution_count": 68,
     "metadata": {},
     "output_type": "execute_result"
    }
   ],
   "source": [
    "x"
   ]
  },
  {
   "cell_type": "code",
   "execution_count": 69,
   "id": "3c201058",
   "metadata": {},
   "outputs": [
    {
     "data": {
      "text/plain": [
       "13"
      ]
     },
     "execution_count": 69,
     "metadata": {},
     "output_type": "execute_result"
    }
   ],
   "source": [
    "y"
   ]
  },
  {
   "cell_type": "code",
   "execution_count": 70,
   "id": "b39c4c16",
   "metadata": {},
   "outputs": [
    {
     "name": "stdout",
     "output_type": "stream",
     "text": [
      "('name', 'Kamal')\n",
      "('roll', 1234)\n",
      "('email', 'abc@gmail.com')\n",
      "('father', 'Hussain')\n"
     ]
    }
   ],
   "source": [
    "# if we need key and value togehter\n",
    "for a in student1.items():\n",
    "    print(a)    "
   ]
  },
  {
   "cell_type": "code",
   "execution_count": 71,
   "id": "4d637851",
   "metadata": {},
   "outputs": [
    {
     "name": "stdout",
     "output_type": "stream",
     "text": [
      "name Kamal\n",
      "roll 1234\n",
      "email abc@gmail.com\n",
      "father Hussain\n"
     ]
    }
   ],
   "source": [
    "# if we need key and value togehter\n",
    "for k,v in student1.items():\n",
    "    print(k,v)    "
   ]
  },
  {
   "cell_type": "code",
   "execution_count": 78,
   "id": "54e1d4c3",
   "metadata": {},
   "outputs": [],
   "source": [
    "atuple = (\"mangoes\",\"oranges\",'bananas')\n",
    "#packing"
   ]
  },
  {
   "cell_type": "code",
   "execution_count": 81,
   "id": "af452e8c",
   "metadata": {},
   "outputs": [],
   "source": [
    "ali,ahmed,faizan = atuple\n",
    "#unpacking"
   ]
  },
  {
   "cell_type": "code",
   "execution_count": 82,
   "id": "63713e87",
   "metadata": {},
   "outputs": [
    {
     "data": {
      "text/plain": [
       "'bananas'"
      ]
     },
     "execution_count": 82,
     "metadata": {},
     "output_type": "execute_result"
    }
   ],
   "source": [
    "_"
   ]
  },
  {
   "cell_type": "code",
   "execution_count": 76,
   "id": "7f945ec6",
   "metadata": {},
   "outputs": [
    {
     "data": {
      "text/plain": [
       "'oranges'"
      ]
     },
     "execution_count": 76,
     "metadata": {},
     "output_type": "execute_result"
    }
   ],
   "source": [
    "ahmed"
   ]
  },
  {
   "cell_type": "code",
   "execution_count": 77,
   "id": "025a5f1d",
   "metadata": {},
   "outputs": [
    {
     "data": {
      "text/plain": [
       "'bananas'"
      ]
     },
     "execution_count": 77,
     "metadata": {},
     "output_type": "execute_result"
    }
   ],
   "source": [
    "faizan"
   ]
  },
  {
   "cell_type": "code",
   "execution_count": null,
   "id": "8b7ac4ab",
   "metadata": {},
   "outputs": [],
   "source": []
  }
 ],
 "metadata": {
  "kernelspec": {
   "display_name": "Python 3 (ipykernel)",
   "language": "python",
   "name": "python3"
  },
  "language_info": {
   "codemirror_mode": {
    "name": "ipython",
    "version": 3
   },
   "file_extension": ".py",
   "mimetype": "text/x-python",
   "name": "python",
   "nbconvert_exporter": "python",
   "pygments_lexer": "ipython3",
   "version": "3.9.12"
  }
 },
 "nbformat": 4,
 "nbformat_minor": 5
}
