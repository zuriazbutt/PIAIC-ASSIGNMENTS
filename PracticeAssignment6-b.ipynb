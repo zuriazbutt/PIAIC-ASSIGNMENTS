{
 "cells": [
  {
   "cell_type": "markdown",
   "id": "ac6f64a4",
   "metadata": {},
   "source": [
    "##### Task1: Mean \n",
    "Breifly decribe the term <b>Mean</b> (<i>dont write formula that sum of all numbers divide by total numbers) </i>\n",
    "Try to present some statistical view of mean(Average).\n",
    "You need to find the mean Average of the array(list). Not built-in function is allowed to use. \n",
    "\n",
    "Example : if user supplies a list [2,3,4,5,5,4,6,7,8,9]\n",
    "\n",
    "The output should be:\n",
    "\n",
    "The mean of the array [2,3,4,5,5,4,6,7,8,9] is 5.3"
   ]
  },
  {
   "cell_type": "code",
   "execution_count": 2,
   "id": "93002a67",
   "metadata": {},
   "outputs": [
    {
     "name": "stdout",
     "output_type": "stream",
     "text": [
      "enter comma seperated numbers 2,4,1,3,0,5,6\n",
      "Mean of the list [0, 1, 2, 3, 4, 5, 6] is 3\n"
     ]
    }
   ],
   "source": [
    "#Your Code goes here\n",
    "a = input(\"enter comma seperated numbers \")\n",
    "list1 = [int(num) for num in a .split(',')]\n",
    "swapped = True\n",
    "while swapped:\n",
    "    swapped = False\n",
    "    for i in range(len(list1)-1):\n",
    "        if list1[i] > list1[i+1]:\n",
    "            list1[i], list1[i+1] = list1[i+1], list1[i]\n",
    "            swapped = True\n",
    "    if not swapped:\n",
    "        break\n",
    "    \n",
    "leng = len(list1)\n",
    "Mean = sum(list1)//leng #by using sum command\n",
    "print(f\"Mean of the list {list1} is {Mean}\")"
   ]
  },
  {
   "cell_type": "code",
   "execution_count": 3,
   "id": "4d2bed16",
   "metadata": {},
   "outputs": [
    {
     "name": "stdout",
     "output_type": "stream",
     "text": [
      "enter comma seperated numbers 2,4,3,1,0,6,5\n",
      "Mean of the list [0, 1, 2, 3, 4, 5, 6] is 3\n"
     ]
    }
   ],
   "source": [
    "#by using mean in loops\n",
    "a = input(\"enter comma seperated numbers \")\n",
    "list1 = [int(num) for num in a .split(',')]\n",
    "swapped = True\n",
    "while swapped:\n",
    "    swapped = False\n",
    "    for i in range(len(list1)-1):\n",
    "        if list1[i] > list1[i+1]:\n",
    "            list1[i], list1[i+1] = list1[i+1], list1[i]\n",
    "            swapped = True\n",
    "    if not swapped:\n",
    "        break\n",
    "    \n",
    "leng = len(list1)\n",
    "total = 0\n",
    "for num in list1:\n",
    "    total = total + num\n",
    "Mean = total//leng\n",
    "print(f\"Mean of the list {list1} is {Mean}\")"
   ]
  },
  {
   "cell_type": "markdown",
   "id": "52bedbb9",
   "metadata": {},
   "source": [
    "#### Task2: Median\n",
    "    \n",
    "Breifly decribe the term <b>Median</b> (<i>dont write mathematical formula</i>)\n",
    "\n",
    "You need to find the Median of the array(list). Not built-in function is allowed to use.\n",
    "\n",
    "Example : if user supplies a list [2,3,4,5,5,4,6,7,8,9]\n",
    "\n",
    "The output should be:\n",
    "\n",
    "The median of the array [2,3,4,5,5,4,6,7,8,9] is 5.\n",
    "    "
   ]
  },
  {
   "cell_type": "code",
   "execution_count": 16,
   "id": "0f10f151",
   "metadata": {},
   "outputs": [
    {
     "name": "stdout",
     "output_type": "stream",
     "text": [
      "enter comma seperated numbers 1,2,3,4,5,6,7\n",
      "Median of list [1, 2, 3, 4, 5, 6, 7] is 4\n"
     ]
    }
   ],
   "source": [
    "#Your code goes here \n",
    "a = input(\"enter comma seperated numbers \")\n",
    "list1 = [int(num) for num in a .split(',')]\n",
    "swapped = True\n",
    "while swapped:\n",
    "    swapped = False\n",
    "    for i in range(len(list1)-1):\n",
    "        if list1[i] > list1[i+1]:\n",
    "            list1[i], list1[i+1] = list1[i+1], list1[i]\n",
    "            swapped = True\n",
    "    if not swapped:\n",
    "        break\n",
    "    \n",
    "if len(list1)%2==0:\n",
    "    Median1 = int(len(list1)/2)\n",
    "    Median2 = int(len(list1)/2)-1\n",
    "    Median = (list1[Median1] + list1[Median2])//2\n",
    "else:\n",
    "    #len(list1)%2!=0:\n",
    "    Median = (len(list1)+1)//2\n",
    "print(f\"Median of list {list1} is {Median}\")"
   ]
  },
  {
   "cell_type": "markdown",
   "id": "41484d7c",
   "metadata": {},
   "source": [
    "#### Task3: Mode \n",
    "Breifly decribe the term <b>Mode</b> (<i>dont write mathematical formula</i>)\n",
    "\n",
    "You need to find the Mode of the array(list). Not built-in function is allowed to use.\n",
    "\n",
    "Example : if user supplies a list [2,3,4,5,3,4,6,7,3,9]\n",
    "\n",
    "The output should be:\n",
    "\n",
    "The median of the array [2,3,4,5,3,4,6,7,8,3] is 3."
   ]
  },
  {
   "cell_type": "code",
   "execution_count": 20,
   "id": "e34c18f9",
   "metadata": {},
   "outputs": [
    {
     "name": "stdout",
     "output_type": "stream",
     "text": [
      "enter comma seperated numbers 2,3,4,5,6,2,3,4,4\n",
      "Mode of the list [2, 3, 4, 5, 6, 2, 3, 4, 4] is 4\n"
     ]
    }
   ],
   "source": [
    "# Your code goes here \n",
    "a = input(\"enter comma seperated numbers \")\n",
    "list1 = [int(num) for num in a .split(',')]\n",
    "Mode = (0,0)\n",
    "for num in list1:\n",
    "    occurence = list1.count(num)\n",
    "    if occurence > Mode[0]:\n",
    "        Mode = (occurence,num)\n",
    "    \n",
    "\n",
    "print(f\"Mode of the list {list1} is {Mode[1]}\")"
   ]
  },
  {
   "cell_type": "markdown",
   "id": "ad6fee2a",
   "metadata": {},
   "source": [
    "#### Task4: Sorting an array in ascending order\n",
    "If user supplies an array(list) like arr = [5, 2, 8, 7, 1]. \n",
    "\n",
    "\n",
    "The output should be like:\n",
    "\n",
    "Elements of original array: \n",
    "5 2 8 7 1 \n",
    "\n",
    "Elements of array sorted in ascending order: \n",
    "1 2 5 7 8 \n",
    "\n",
    "Note: We need to write our own sorting algorithm using sort function of list is not acceptable."
   ]
  },
  {
   "cell_type": "code",
   "execution_count": 39,
   "id": "c857c8ba",
   "metadata": {},
   "outputs": [
    {
     "name": "stdout",
     "output_type": "stream",
     "text": [
      "enter comma seperated numbers 4,3,2,1\n",
      "Elements of array sorted in ascending order [1, 2, 3, 4]\n"
     ]
    }
   ],
   "source": [
    "#Your code goes here \n",
    "a = input(\"enter comma seperated numbers \")\n",
    "list1 = [int(num) for num in a .split(',')]\n",
    "swapped = True\n",
    "while swapped:\n",
    "    swapped = False\n",
    "    for i in range(len(list1)-1):\n",
    "        if list1[i] > list1[i+1]:\n",
    "            list1[i], list1[i+1] = list1[i+1], list1[i]\n",
    "            swapped = True\n",
    "    if not swapped:\n",
    "        break\n",
    "print(f\"Elements of array sorted in ascending order {list1}\")"
   ]
  },
  {
   "cell_type": "markdown",
   "id": "b3134432",
   "metadata": {},
   "source": [
    "#### Task5: Sorting an array in descending order\n",
    "\n",
    "If user supplies an array(list) like arr = [5, 2, 8, 7, 1]. \n",
    "\n",
    "\n",
    "The output should be like:\n",
    "\n",
    "Elements of original array: \n",
    "5 2 8 7 1 \n",
    "\n",
    "Elements of array sorted in ascending order: \n",
    "8 7 5 2 1 \n",
    "\n",
    "Note: We need to write our own sorting algorithm. Using sort function of list is not acceptable.\n"
   ]
  },
  {
   "cell_type": "code",
   "execution_count": 40,
   "id": "70452f62",
   "metadata": {},
   "outputs": [
    {
     "name": "stdout",
     "output_type": "stream",
     "text": [
      "enter comma seperated numbers 1,2,3,4\n",
      "Elements of array sorted in descending order [4, 3, 2, 1]\n"
     ]
    }
   ],
   "source": [
    "#Your code goes here \n",
    "a = input(\"enter comma seperated numbers \")\n",
    "list1 = [int(num) for num in a .split(',')]\n",
    "swapped = True\n",
    "while swapped:\n",
    "    swapped = False\n",
    "    for i in range(len(list1)-1):\n",
    "        if list1[i] < list1[i+1]:\n",
    "            list1[i], list1[i+1] = list1[i+1], list1[i]\n",
    "            swapped = True\n",
    "    if not swapped:\n",
    "        break\n",
    "print(f\"Elements of array sorted in descending order {list1}\")"
   ]
  },
  {
   "cell_type": "markdown",
   "id": "fe5691a5",
   "metadata": {},
   "source": [
    "#### Task6: Finding the max of the inputted array \n",
    "\n",
    "If user supplies an array(list) like arr = [5, 2, 8, 7, 1]. \n",
    "\n",
    "\n",
    "The output should be like:\n",
    "\n",
    "Max value in the array is 8\n",
    "\n",
    "Note: We need to write our own max algorithm. use of python max function is not acceptable. "
   ]
  },
  {
   "cell_type": "code",
   "execution_count": 42,
   "id": "89ab79e3",
   "metadata": {},
   "outputs": [
    {
     "name": "stdout",
     "output_type": "stream",
     "text": [
      "enter comma seperated numbers 4,2,3,36\n",
      "Max value in the list is 36\n"
     ]
    }
   ],
   "source": [
    "# Your code goes here\n",
    "a = input(\"enter comma seperated numbers \")\n",
    "list1 = [int(num) for num in a .split(',')]\n",
    "max_val = list1[0]\n",
    "for i in list1:\n",
    "    if i > max_val:\n",
    "        max_val = i\n",
    "print(f\"Max value in the list is {max_val}\")"
   ]
  },
  {
   "cell_type": "markdown",
   "id": "04c3bb05",
   "metadata": {},
   "source": [
    "#### Task7: Finding the min of the inputted array\n",
    "If user supplies an array(list) like arr = [5, 2, 8, 7, 1].\n",
    "\n",
    "The output should be like:\n",
    "\n",
    "Min value in the array is 1\n",
    "\n",
    "Note: We need to write our own min algorithm. use of python min function is not acceptable."
   ]
  },
  {
   "cell_type": "code",
   "execution_count": 43,
   "id": "36abc9e4",
   "metadata": {},
   "outputs": [
    {
     "name": "stdout",
     "output_type": "stream",
     "text": [
      "enter comma seperated numbers 4,3,21,5,0\n",
      "Min value in the list is 0\n"
     ]
    }
   ],
   "source": [
    "#Your code goes here \n",
    "a = input(\"enter comma seperated numbers \")\n",
    "list1 = [int(num) for num in a .split(',')]\n",
    "min_val = list1[0]\n",
    "for i in list1:\n",
    "    if i < min_val:\n",
    "        min_val = i\n",
    "print(f\"Min value in the list is {min_val}\")"
   ]
  }
 ],
 "metadata": {
  "kernelspec": {
   "display_name": "Python 3 (ipykernel)",
   "language": "python",
   "name": "python3"
  },
  "language_info": {
   "codemirror_mode": {
    "name": "ipython",
    "version": 3
   },
   "file_extension": ".py",
   "mimetype": "text/x-python",
   "name": "python",
   "nbconvert_exporter": "python",
   "pygments_lexer": "ipython3",
   "version": "3.9.12"
  }
 },
 "nbformat": 4,
 "nbformat_minor": 5
}
