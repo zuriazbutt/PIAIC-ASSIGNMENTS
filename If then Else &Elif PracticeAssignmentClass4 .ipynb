{
 "cells": [
  {
   "cell_type": "raw",
   "metadata": {
    "id": "8rksu2_jMVjQ"
   },
   "source": [
    "1) A company decided to give bonus of 5% to employee if his/her year of service is more than 5 years.\n",
    "Ask user for their salary and year of service and print the net bonus amount."
   ]
  },
  {
   "cell_type": "code",
   "execution_count": 4,
   "metadata": {
    "id": "_GRPHPiLMVjX"
   },
   "outputs": [
    {
     "name": "stdout",
     "output_type": "stream",
     "text": [
      "enter your year of service 5\n",
      "not applicable\n"
     ]
    }
   ],
   "source": [
    "#Type your code here\n",
    "bonus = None\n",
    "yos = int(input(\"enter your year of service \"))\n",
    "if yos > 5:\n",
    "    salary = int(input(\"enter your salary \"))\n",
    "    bonus = salary * .05\n",
    "    print(f\"your bonus {bonus+salary}\")\n",
    "else:\n",
    "    print(\"not applicable\")"
   ]
  },
  {
   "cell_type": "code",
   "execution_count": null,
   "metadata": {
    "id": "3kDSFTKdMcqZ"
   },
   "outputs": [],
   "source": []
  },
  {
   "cell_type": "markdown",
   "metadata": {
    "id": "iXt5RVcjMVja"
   },
   "source": [
    "\n",
    "2) Write a program to check whether a person is eligible for voting or not. (accept age from user)"
   ]
  },
  {
   "cell_type": "code",
   "execution_count": 7,
   "metadata": {
    "id": "jXVCvia3MVjh"
   },
   "outputs": [
    {
     "name": "stdout",
     "output_type": "stream",
     "text": [
      "enter your age 17\n",
      "You are not allowed to vote\n"
     ]
    }
   ],
   "source": [
    "#Type your code here\n",
    "vote = None\n",
    "voting_age = int(input(\"enter your age \"))\n",
    "if voting_age >= 18:\n",
    "    vote = \"You are allowed to vote\"\n",
    "else:\n",
    "    vote = \"You are not allowed to vote\"\n",
    "print(vote)"
   ]
  },
  {
   "cell_type": "markdown",
   "metadata": {
    "id": "IkNM7QpCMVjj"
   },
   "source": [
    "\n",
    "3) Write a program to check whether a number entered by user is even or odd."
   ]
  },
  {
   "cell_type": "code",
   "execution_count": 10,
   "metadata": {
    "id": "-GxviwByMVjl"
   },
   "outputs": [
    {
     "name": "stdout",
     "output_type": "stream",
     "text": [
      "Enter number 12345566\n",
      "number is even\n"
     ]
    }
   ],
   "source": [
    "#Type your code here\n",
    "num = int(input(\"Enter number \"))\n",
    "if num%2 == 0:\n",
    "    print(\"number is even\")\n",
    "else:\n",
    "    print(\"number is odd\")"
   ]
  },
  {
   "cell_type": "markdown",
   "metadata": {
    "id": "_jEHjkfdMVjm"
   },
   "source": [
    "4) Write a program to check whether a number is divisible by 7 or not.\n",
    "Show Answer"
   ]
  },
  {
   "cell_type": "code",
   "execution_count": 12,
   "metadata": {
    "id": "IRNXyG1GMVjo"
   },
   "outputs": [
    {
     "name": "stdout",
     "output_type": "stream",
     "text": [
      "Enter number 12\n",
      "number is not divisible by 7\n"
     ]
    }
   ],
   "source": [
    "#Type your code here\n",
    "num = int(input(\"Enter number \"))\n",
    "if num%7 == 0:\n",
    "    print(\"number is divisible by 7\")\n",
    "else:\n",
    "    print(\"number is not divisible by 7\")"
   ]
  },
  {
   "cell_type": "raw",
   "metadata": {
    "id": "XxfyVe4kMVjp"
   },
   "source": [
    "5) Write a program to display \n",
    "\"Hello\" if a number entered by user is a multiple of five , otherwise print \"Bye\"."
   ]
  },
  {
   "cell_type": "code",
   "execution_count": 13,
   "metadata": {
    "id": "Ixnz4R4TMVjr"
   },
   "outputs": [
    {
     "name": "stdout",
     "output_type": "stream",
     "text": [
      "Enter number 25\n",
      "Hello\n"
     ]
    }
   ],
   "source": [
    "#Type your code here\n",
    "num = int(input(\"Enter number \"))\n",
    "if num%5 == 0:\n",
    "    print(\"Hello\")\n",
    "else:\n",
    "    print(\"Bye\")"
   ]
  },
  {
   "cell_type": "raw",
   "metadata": {
    "id": "qfzRUUwOMVjs"
   },
   "source": [
    "6) Write a program to calculate the electricity bill (accept number of unit from user) according to the following criteria :\n",
    "     Unit                                                     Price  \n",
    "uptp 100 units                                             no charge\n",
    "Next 200 units                                              Rs 5 per unit\n",
    "After 200 units                                             Rs 10 per unit\n",
    "(For example if input unit is 350 than total bill amount is Rs.2000\n",
    "(For example if input unit is 97 than total bill amount is Rs.0\n",
    "(For example if input unit is 150 than total bill amount is Rs.250"
   ]
  },
  {
   "cell_type": "code",
   "execution_count": 1,
   "metadata": {
    "id": "1BY1oAIpMVju"
   },
   "outputs": [
    {
     "name": "stdout",
     "output_type": "stream",
     "text": [
      "enter number of units used 350\n",
      "\n",
      "       ==========\n",
      "       \n",
      "       Unit used = 350 \n",
      "       total bill = 2000 Rs\n",
      "       \n",
      "       ========== \n",
      "        \n",
      "        \n"
     ]
    }
   ],
   "source": [
    "#Type your code here\n",
    "unit = None\n",
    "units_used = int(input(\"enter number of units used \"))\n",
    "\n",
    "if units_used <= 100:\n",
    "    unit = \"no charge\"\n",
    "elif units_used <= 200:\n",
    "    unit = (units_used-100)*5\n",
    "else :\n",
    "    units_used > 200\n",
    "    unit = 500+(units_used-200)*10\n",
    "print(f\"\"\"\n",
    "       ==========\n",
    "       \n",
    "       Unit used = {units_used} \n",
    "       total bill = {unit} Rs\n",
    "       \n",
    "       ========== \n",
    "        \n",
    "        \"\"\")"
   ]
  },
  {
   "cell_type": "raw",
   "metadata": {
    "id": "msAIDMRDMVjv"
   },
   "source": [
    "7) Write a program to display the last digit of a number.\n"
   ]
  },
  {
   "cell_type": "code",
   "execution_count": 2,
   "metadata": {
    "id": "VQwLuGzbMVjv"
   },
   "outputs": [
    {
     "name": "stdout",
     "output_type": "stream",
     "text": [
      "enter a num 12334\n",
      "last digit 4\n"
     ]
    }
   ],
   "source": [
    "#Type your code here\n",
    "num = int(input(\"enter a num \"))\n",
    "print(f\"last digit {num%10}\")"
   ]
  },
  {
   "cell_type": "raw",
   "metadata": {
    "id": "UeLHzVZ_MVjw"
   },
   "source": [
    "\n",
    "Q8. Write a program to check whether th123\n",
    "e last digit of a number( entered by user ) is \n",
    "divisible by 3 or not."
   ]
  },
  {
   "cell_type": "code",
   "execution_count": 6,
   "metadata": {
    "id": "KiQ5wnc6MVjx"
   },
   "outputs": [
    {
     "name": "stdout",
     "output_type": "stream",
     "text": [
      "enter a num 133445\n",
      "last digit 5 is not divisible by 3\n"
     ]
    }
   ],
   "source": [
    "#Type your code here\n",
    "num = int(input(\"enter a num \"))\n",
    "num2 = num%10\n",
    "if num2%3 == 0:\n",
    "    print(f\"last digit {num2} is divisible by 3\")\n",
    "else:\n",
    "    print(f\"last digit {num2} is not divisible by 3\")"
   ]
  },
  {
   "cell_type": "raw",
   "metadata": {
    "id": "CR4sMmRgMVjy"
   },
   "source": [
    "9) Take values of length and breadth of a rectangle from user and check if it is square or not."
   ]
  },
  {
   "cell_type": "code",
   "execution_count": 8,
   "metadata": {
    "id": "Oj1MT5fCMVjy"
   },
   "outputs": [
    {
     "name": "stdout",
     "output_type": "stream",
     "text": [
      "enter length 12\n",
      "enter breadth 13\n",
      "It is not a square\n"
     ]
    }
   ],
   "source": [
    "#Type your code here \n",
    "leng = int(input(\"enter length \"))\n",
    "brea = int(input(\"enter breadth \"))\n",
    "if leng == brea:\n",
    "    print(\"It is a square\")\n",
    "else:\n",
    "    print(\"It is not a square\")"
   ]
  },
  {
   "cell_type": "raw",
   "metadata": {
    "id": "B2e5VYbiMVjz"
   },
   "source": [
    "10) Take two int values from user and print greatest among them."
   ]
  },
  {
   "cell_type": "code",
   "execution_count": 9,
   "metadata": {
    "id": "LyYYL78HMVj0"
   },
   "outputs": [
    {
     "name": "stdout",
     "output_type": "stream",
     "text": [
      "enter 1st number1\n",
      "enter 2nd number2\n",
      "greatest number is 2\n"
     ]
    }
   ],
   "source": [
    "# Type your code here\n",
    "greatest = None\n",
    "num1 = int(input(\"enter 1st number \"))\n",
    "num2 = int(input(\"enter 2nd number \"))\n",
    "if num1>num2:\n",
    "    greatest = num1\n",
    "else:\n",
    "    greatest = num2\n",
    "\n",
    "print(f\"greatest number is {greatest}\")\n",
    "    \n",
    "    "
   ]
  },
  {
   "cell_type": "raw",
   "metadata": {
    "id": "R9gMEjdQMVj1"
   },
   "source": [
    "11) A shop will give discount of 10% if the cost of purchased quantity is more than 1000.\n",
    "Ask user for quantity\n",
    "Suppose, one unit will cost 100.\n",
    "Judge and print total cost for user."
   ]
  },
  {
   "cell_type": "code",
   "execution_count": 16,
   "metadata": {
    "id": "hjvEnOzxMVj2"
   },
   "outputs": [
    {
     "name": "stdout",
     "output_type": "stream",
     "text": [
      "enter number of items purchased 12\n",
      "your bill is 1080.0 with a discount of 10%\n"
     ]
    }
   ],
   "source": [
    "#Type your code here\n",
    "items = int(input(\"enter number of items purchased \"))\n",
    "total_cost = items*100\n",
    "if total_cost>=1000:\n",
    "    total_cost = (items*100) - (.1*items*100)\n",
    "else:\n",
    "    total_cost = total_cost\n",
    "print(f\"your bill is {total_cost} with a discount of 10%\")"
   ]
  },
  {
   "cell_type": "raw",
   "metadata": {
    "id": "yqYL7FZeMVj3"
   },
   "source": [
    "12) A school has following rules for grading system:\n",
    "\n",
    "a. Below 25 - F\n",
    "\n",
    "b. 25 to 45 - E\n",
    "\n",
    "c. 45 to 50 - D\n",
    "\n",
    "d. 50 to 60 - C\n",
    "\n",
    "e. 60 to 80 - B\n",
    "\n",
    "f. Above 80 - A\n",
    "\n",
    "Ask user to enter marks and print the corresponding grade."
   ]
  },
  {
   "cell_type": "code",
   "execution_count": 3,
   "metadata": {
    "id": "he_r-bpOMVj4"
   },
   "outputs": [
    {
     "name": "stdout",
     "output_type": "stream",
     "text": [
      "enter your maths marks 78\n",
      "enter your physics marks 78\n",
      "enter your chemistry marks 78\n",
      "enter your urdu marks 78\n",
      "enter your english marks 78\n",
      "\n",
      "        \n",
      "        =======\n",
      "        Result\n",
      "        \n",
      "        Total Marks = 390\n",
      "        Precentage = 78\n",
      "        Grade = A\n",
      "        \n",
      "        =======\n",
      "\n",
      "\n",
      "        \n"
     ]
    }
   ],
   "source": [
    "#Type your code here\n",
    "grade = None\n",
    "maths = int(input(\"enter your maths marks \"))\n",
    "phy = int(input(\"enter your physics marks \"))\n",
    "chem = int(input(\"enter your chemistry marks \"))\n",
    "urdu = int(input(\"enter your urdu marks \"))\n",
    "eng = int(input(\"enter your english marks \"))\n",
    "total_marks = (maths+phy+chem+urdu+eng)\n",
    "prec = int((total_marks/500)*100)\n",
    "\n",
    "if prec >= 80:\n",
    "    grade = \"A+\"\n",
    "elif prec >= 70 < 80:\n",
    "    grade = \"A\"\n",
    "elif prec >= 60 < 70:\n",
    "    grade = \"B\"\n",
    "elif prec >= 50 < 60:\n",
    "    grade = \"c\"\n",
    "elif prec >= 40 < 50:\n",
    "    grade = \"D\"\n",
    "else:\n",
    "    grade = \"Better luck next time\"\n",
    "    \n",
    "print(f\"\"\"\n",
    "        \n",
    "        =======\n",
    "        Result\n",
    "        \n",
    "        Total Marks = {total_marks}\n",
    "        Precentage = {prec}\n",
    "        Grade = {grade}\n",
    "        \n",
    "        =======\n",
    "\n",
    "\n",
    "        \"\"\")\n",
    "    "
   ]
  },
  {
   "cell_type": "markdown",
   "metadata": {
    "id": "IUJjt9NbMVj4"
   },
   "source": [
    "##### 13) Take input of age of 3 people by user and determine oldest and youngest among them."
   ]
  },
  {
   "cell_type": "code",
   "execution_count": 4,
   "metadata": {
    "id": "vlre5Ck0MVj4"
   },
   "outputs": [
    {
     "name": "stdout",
     "output_type": "stream",
     "text": [
      "enter your age 21\n",
      "enter your age 23\n",
      "enter your age 45\n",
      "Youngest age is 45\n",
      "Oldest age is 21\n"
     ]
    }
   ],
   "source": [
    "#Type your code here\n",
    "age1 = int(input(\"enter your age \"))\n",
    "age2 = int(input(\"enter your age \"))\n",
    "age3 = int(input(\"enter your age \"))\n",
    "youngest = None\n",
    "oldest = None\n",
    "if age1 > age2 > age3:\n",
    "    youngest = age1\n",
    "elif age2 > age1 > age3:\n",
    "    youngest = age2\n",
    "else:\n",
    "    youngest = age3\n",
    "    \n",
    "if age1 < age2 < age3:\n",
    "    oldest = age1\n",
    "elif age2 < age1 < age3:\n",
    "    oldest = age2\n",
    "else:\n",
    "    oldest = age3\n",
    "    \n",
    "print(f\"Youngest age is {youngest}\")\n",
    "print(f\"Oldest age is {oldest}\")\n",
    "    "
   ]
  },
  {
   "cell_type": "code",
   "execution_count": 12,
   "metadata": {},
   "outputs": [
    {
     "name": "stdout",
     "output_type": "stream",
     "text": [
      "Enter Age of Person1: 12\n",
      "Enter Age of Person2: 32\n",
      "Enter Age of Person3: 23\n",
      "The person with higest age is 32\n",
      "The person with lowest age is 12\n"
     ]
    }
   ],
   "source": [
    "# by useing list comprihenssion\n",
    "age = [int(input(f\"Enter Age of Person{i+1}: \")) for i in range(3)]\n",
    "high = low = age[0]\n",
    "for i in range(3):\n",
    "    if age[i] > high:\n",
    "        high = age[i]\n",
    "    elif age[i] < low:\n",
    "        low = age[i]\n",
    "print(f\"The person with higest age is {high}\\nThe person with lowest age is {low}\")"
   ]
  },
  {
   "cell_type": "raw",
   "metadata": {
    "id": "Zc9ovDhsMVj5"
   },
   "source": [
    "14)A student will not be allowed to sit in exam if his/her attendence is less than 75%.\n",
    "\n",
    "Take following input from user\n",
    "\n",
    "Number of classes held\n",
    "\n",
    "Number of classes attended.\n",
    "\n",
    "And print\n",
    "\n",
    "percentage of class attended\n",
    "\n",
    "Is student is allowed to sit in exam or not.\n"
   ]
  },
  {
   "cell_type": "code",
   "execution_count": 9,
   "metadata": {
    "id": "rseYum2_MVj6"
   },
   "outputs": [
    {
     "name": "stdout",
     "output_type": "stream",
     "text": [
      "enter number of class held 20\n",
      "enter number of class attended 15\n",
      "your precentage is 75 allowed to give exam\n"
     ]
    }
   ],
   "source": [
    "#Type your code here\n",
    "classes_held = int(input(\"enter number of class held \"))\n",
    "classes_attended = int(input(\"enter number of class attended \"))\n",
    "prec = int((classes_attended/classes_held)*100)\n",
    "if prec >= 75:\n",
    "    print(f\"your precentage is {prec} allowed to give exam\")\n",
    "else:\n",
    "    print(f\"your precentage is {prec}% not allowed to give exam\")"
   ]
  },
  {
   "cell_type": "raw",
   "metadata": {
    "id": "58UPPHAOMVj6"
   },
   "source": [
    "15) Modify the above question to allow student to sit if he/she has medical cause. Ask user if he/she has medical cause or not ( 'Y' or 'N' ) and print accordingly."
   ]
  },
  {
   "cell_type": "code",
   "execution_count": 19,
   "metadata": {
    "id": "lDi-xLzTMVj7"
   },
   "outputs": [
    {
     "name": "stdout",
     "output_type": "stream",
     "text": [
      "enter number of class held 20\n",
      "enter number of class attended 6\n",
      "Do you any medical cause Yes/No? yes\n",
      "Your precentage is 30 and you are allowed to sit in exam\n"
     ]
    }
   ],
   "source": [
    "#Type your code here\n",
    "classes_held = int(input(\"enter number of class held \"))\n",
    "classes_attended = int(input(\"enter number of class attended \"))\n",
    "med_cause = input(\"Do you any medical cause Yes/No? \").lower()\n",
    "prec = int((classes_attended/classes_held)*100)\n",
    "eligible = None\n",
    "\n",
    "if prec >= 75:\n",
    "    eligible = \"you are allowed to sit in exam\"\n",
    "elif prec < 75 and med_cause == \"yes\":\n",
    "    eligible = \"you are allowed to sit in exam\"\n",
    "else:\n",
    "    eligible = \"you are not allowed to sit in exam\"\n",
    "\n",
    "print(f\"Your precentage is {prec} and {eligible}\")"
   ]
  },
  {
   "cell_type": "raw",
   "metadata": {
    "id": "kJtSy1EoMVj7"
   },
   "source": [
    "16) Write a program to check if a year is leap year or not.\n",
    "\n",
    "If a year is divisible by 4 then it is leap year but if the year is century year like 2000, 1900, 2100 then it must be divisible by 400."
   ]
  },
  {
   "cell_type": "code",
   "execution_count": 13,
   "metadata": {
    "id": "QUL_YUX3MVj7"
   },
   "outputs": [
    {
     "name": "stdout",
     "output_type": "stream",
     "text": [
      "enter year num 1900\n",
      "It is a leap year\n"
     ]
    }
   ],
   "source": [
    "#Type your code here\n",
    "a = int(input(\"enter year num \"))\n",
    "leap_year = None\n",
    "if a%400==0 and a%100==0:\n",
    "    leap_year = \"It is a leap year\"\n",
    "elif a%4==0 and a%100!=0:\n",
    "    leap_year = \"It is a leap year\"\n",
    "else:\n",
    "    leap_year = \"It is not a leap year\"\n",
    "print(leap_year)\n",
    "    "
   ]
  },
  {
   "cell_type": "raw",
   "metadata": {
    "id": "CCNg4yDDMVj8"
   },
   "source": [
    "17) Ask user to enter age, gender ( M or F ), marital status ( Y or N ) and then using following rules print their place of service.\n",
    "\n",
    "if employee is female, then she will work only in urban areas.\n",
    "\n",
    "if employee is a male and age is in between 20 to 40 then he may work in anywhere\n",
    "\n",
    "if employee is male and age is in between 40 t0 60 then he will work in urban areas only.\n",
    "\n",
    "And any other input of age should print \"ERROR\""
   ]
  },
  {
   "cell_type": "code",
   "execution_count": 6,
   "metadata": {
    "id": "-TG-QI8TMVj9"
   },
   "outputs": [
    {
     "name": "stdout",
     "output_type": "stream",
     "text": [
      "enter your age 20\n",
      "enter your gender M/F? F\n",
      "enter your marital status Yes/No? yes\n",
      "She will work only in urban areas\n"
     ]
    }
   ],
   "source": [
    "#Type your code here\n",
    "employee_age = int(input(\"enter your age \"))\n",
    "employee_gender = input(\"enter your gender M/F? \").lower()\n",
    "marital_status = input(\"enter your marital status Yes/No? \")\n",
    "\n",
    "if employee_gender == \"f\":\n",
    "    print(\"She will work only in urban areas\")\n",
    "elif employee_gender==\"m\" and employee_age >= 20 and employee_age <=40:\n",
    "    print(\"He may work in anywhere\")\n",
    "elif employee_gender==\"m\" and employee_age >40 and employee_age <=60:\n",
    "    print(\"He will work in urban areas only\")\n",
    "else:\n",
    "    print(\"ERROR\")"
   ]
  },
  {
   "cell_type": "code",
   "execution_count": null,
   "metadata": {},
   "outputs": [],
   "source": []
  }
 ],
 "metadata": {
  "colab": {
   "name": "If then Else &Elif Practice Task .ipynb",
   "provenance": []
  },
  "kernelspec": {
   "display_name": "Python 3 (ipykernel)",
   "language": "python",
   "name": "python3"
  },
  "language_info": {
   "codemirror_mode": {
    "name": "ipython",
    "version": 3
   },
   "file_extension": ".py",
   "mimetype": "text/x-python",
   "name": "python",
   "nbconvert_exporter": "python",
   "pygments_lexer": "ipython3",
   "version": "3.9.12"
  }
 },
 "nbformat": 4,
 "nbformat_minor": 1
}
